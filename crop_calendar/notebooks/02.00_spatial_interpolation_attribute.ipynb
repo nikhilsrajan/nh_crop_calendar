{
 "cells": [
  {
   "cell_type": "code",
   "execution_count": null,
   "metadata": {},
   "outputs": [],
   "source": [
    "import os"
   ]
  },
  {
   "cell_type": "code",
   "execution_count": null,
   "metadata": {},
   "outputs": [],
   "source": [
    "import sys\n",
    "sys.path.append('..')"
   ]
  },
  {
   "cell_type": "code",
   "execution_count": null,
   "metadata": {},
   "outputs": [],
   "source": [
    "import config\n",
    "\n",
    "import presets\n",
    "import spatially_interpolate_files"
   ]
  },
  {
   "cell_type": "code",
   "execution_count": null,
   "metadata": {},
   "outputs": [],
   "source": [
    "attribute = presets.ATTR_NDVI\n",
    "attribute_folderpath = config.FOLDERPATH_CLUSTERFILES_NDVI\n",
    "\n",
    "nodata = 0\n",
    "cropmask_tif_filepath = os.path.join(config.FOLDERPATH_MASKS, 'cereals.tif')\n",
    "interp_tif_filepath = os.path.join(config.FOLDERPATH_MASKS, 'temporarycrops.tif')\n",
    "mask_nodata = 0\n",
    "lower_cap = 0\n",
    "upper_cap = 250\n",
    "rich_data_min_total_data = 23\n",
    "rich_data_max_max_continuous_unavailable_data = 7\n",
    "years = [2019, 2020, 2021, 2022, 2023]\n",
    "\n",
    "t_interp_folderpath = os.path.join(config.FOLDERPATH_OUTPUTS, f'interp_out/{attribute}/t_interp')\n",
    "overwrite_t_interp = False\n",
    "\n",
    "st_interp_folderpath = os.path.join(config.FOLDERPATH_OUTPUTS, f'interp_out/{attribute}/st_interp')\n",
    "overwrite_st_interp = False\n",
    "\n",
    "tst_interp_folderpath = os.path.join(config.FOLDERPATH_OUTPUTS, f'interp_out/{attribute}/tst_interp')\n",
    "overwrite_tst_interp = True"
   ]
  },
  {
   "cell_type": "code",
   "execution_count": null,
   "metadata": {},
   "outputs": [],
   "source": [
    "t_interp_catalogue_df, st_interp_catalogue_df, tst_interp_catalogue_df \\\n",
    "= spatially_interpolate_files.spatially_interpolate_files(\n",
    "    roi_geom_filepath = config.FILEPATH_ROI_SHAPE,\n",
    "    ref_tif_filepath = config.FILEPATH_REFERENCE_GEOTIFF,\n",
    "    attribute_folderpath = attribute_folderpath,\n",
    "    attribute = attribute,\n",
    "    nodata = nodata,\n",
    "    cropmask_tif_filepath = cropmask_tif_filepath,\n",
    "    interp_tif_filepath = interp_tif_filepath,\n",
    "    mask_nodata = mask_nodata,\n",
    "    lower_cap = lower_cap,\n",
    "    upper_cap = upper_cap,\n",
    "    rich_data_min_total_data = rich_data_min_total_data,\n",
    "    rich_data_max_max_continuous_unavailable_data = rich_data_max_max_continuous_unavailable_data,\n",
    "    years = years,\n",
    "    t_interp_folderpath = t_interp_folderpath,\n",
    "    overwrite_t_interp = overwrite_t_interp,\n",
    "    st_interp_folderpath = st_interp_folderpath,\n",
    "    overwrite_st_interp = overwrite_st_interp,\n",
    "    tst_interp_folderpath = tst_interp_folderpath,\n",
    "    overwrite_tst_interp = overwrite_tst_interp,\n",
    ")"
   ]
  },
  {
   "cell_type": "code",
   "execution_count": null,
   "metadata": {},
   "outputs": [],
   "source": [
    "t_interp_catalogue_df"
   ]
  },
  {
   "cell_type": "code",
   "execution_count": null,
   "metadata": {},
   "outputs": [],
   "source": [
    "st_interp_catalogue_df['tif_filepath'][0]"
   ]
  },
  {
   "cell_type": "code",
   "execution_count": null,
   "metadata": {},
   "outputs": [],
   "source": [
    "tst_interp_catalogue_df"
   ]
  },
  {
   "cell_type": "code",
   "execution_count": null,
   "metadata": {},
   "outputs": [],
   "source": []
  }
 ],
 "metadata": {
  "kernelspec": {
   "display_name": ".venv",
   "language": "python",
   "name": "python3"
  },
  "language_info": {
   "codemirror_mode": {
    "name": "ipython",
    "version": 3
   },
   "file_extension": ".py",
   "mimetype": "text/x-python",
   "name": "python",
   "nbconvert_exporter": "python",
   "pygments_lexer": "ipython3",
   "version": "3.10.11"
  }
 },
 "nbformat": 4,
 "nbformat_minor": 2
}
