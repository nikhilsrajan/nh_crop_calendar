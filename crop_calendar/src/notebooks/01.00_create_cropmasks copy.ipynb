{
 "cells": [
  {
   "cell_type": "code",
   "execution_count": 1,
   "metadata": {},
   "outputs": [],
   "source": [
    "import geopandas as gpd\n",
    "import tqdm\n",
    "import os\n",
    "import rasterio\n",
    "import rasterio.merge\n",
    "import rasterio.warp\n",
    "import pandas as pd\n",
    "import datetime\n",
    "import numpy as np"
   ]
  },
  {
   "cell_type": "code",
   "execution_count": 2,
   "metadata": {},
   "outputs": [],
   "source": [
    "import sys\n",
    "sys.path.append('..')"
   ]
  },
  {
   "cell_type": "code",
   "execution_count": 3,
   "metadata": {},
   "outputs": [],
   "source": [
    "import rsutils.utils as utils\n",
    "import rsutils.s2_grid_utils as s2_grid_utils"
   ]
  },
  {
   "cell_type": "code",
   "execution_count": 4,
   "metadata": {},
   "outputs": [],
   "source": [
    "outputs_folderpath = '../../data/outputs'\n",
    "os.makedirs(outputs_folderpath, exist_ok=True)"
   ]
  },
  {
   "cell_type": "code",
   "execution_count": 5,
   "metadata": {},
   "outputs": [],
   "source": [
    "bounding_filepath = '../../data/outputs/france_modis_bounding.geojson'\n",
    "aez_geojson_filepath = '../../data/worldcereal/WorldCereal_AEZ.geojson'"
   ]
  },
  {
   "cell_type": "code",
   "execution_count": 6,
   "metadata": {},
   "outputs": [],
   "source": [
    "bounds_gdf = gpd.read_file(bounding_filepath)\n",
    "aez_gdf = gpd.read_file(aez_geojson_filepath)"
   ]
  },
  {
   "cell_type": "code",
   "execution_count": 7,
   "metadata": {},
   "outputs": [
    {
     "data": {
      "text/plain": [
       "(4, 7)"
      ]
     },
     "execution_count": 7,
     "metadata": {},
     "output_type": "execute_result"
    }
   ],
   "source": [
    "worldcereal_aez_in_bound_gdf = gpd.sjoin(bounds_gdf, aez_gdf[\n",
    "    ['geometry', 'aez_id', \n",
    "     'tc-maize-main_sos', 'tc-maize-main_eos',\n",
    "     'tc-maize-second_sos', 'tc-maize-second_eos',]\n",
    "]).reset_index(drop=True)\n",
    "worldcereal_aez_in_bound_gdf.shape"
   ]
  },
  {
   "cell_type": "code",
   "execution_count": 8,
   "metadata": {},
   "outputs": [
    {
     "data": {
      "text/plain": [
       "['43153', '43170', '22190', '46172']"
      ]
     },
     "execution_count": 8,
     "metadata": {},
     "output_type": "execute_result"
    }
   ],
   "source": [
    "aez_ids = worldcereal_aez_in_bound_gdf['aez_id'].astype(str).to_list()\n",
    "aez_ids"
   ]
  },
  {
   "cell_type": "code",
   "execution_count": 9,
   "metadata": {},
   "outputs": [
    {
     "data": {
      "text/plain": [
       "(233, 7)"
      ]
     },
     "execution_count": 9,
     "metadata": {},
     "output_type": "execute_result"
    }
   ],
   "source": [
    "worldcereal_tif_catalogue_data = {\n",
    "    'aez': [],\n",
    "    'season': [],\n",
    "    'product': [],\n",
    "    'startdate': [],\n",
    "    'enddate': [],\n",
    "    'type': [],\n",
    "    'filepath': [],\n",
    "}\n",
    "\n",
    "data_folderpath = '../../data/worldcereal/'\n",
    "\n",
    "for filepath in utils.get_all_files_in_folder(data_folderpath):\n",
    "    filename = os.path.split(filepath)[1]\n",
    "    if filename[-4:] != '.tif':\n",
    "        continue\n",
    "    filename_wo_ext = filename[:-4]\n",
    "    aez, season, product, startdate, enddate, ftype = filename_wo_ext.split('_')\n",
    "    worldcereal_tif_catalogue_data['aez'].append(str(aez))\n",
    "    worldcereal_tif_catalogue_data['season'].append(season)\n",
    "    worldcereal_tif_catalogue_data['product'].append(product)\n",
    "    worldcereal_tif_catalogue_data['startdate'].append(datetime.datetime.strptime(startdate, '%Y-%m-%d'))\n",
    "    worldcereal_tif_catalogue_data['enddate'].append(datetime.datetime.strptime(enddate, '%Y-%m-%d'))\n",
    "    worldcereal_tif_catalogue_data['type'].append(ftype)\n",
    "    worldcereal_tif_catalogue_data['filepath'].append(filepath)\n",
    "\n",
    "worldcereal_tif_catalogue_df = pd.DataFrame(data=worldcereal_tif_catalogue_data)\n",
    "worldcereal_tif_catalogue_df.shape"
   ]
  },
  {
   "cell_type": "code",
   "execution_count": 10,
   "metadata": {},
   "outputs": [
    {
     "data": {
      "text/plain": [
       "(11, 7)"
      ]
     },
     "execution_count": 10,
     "metadata": {},
     "output_type": "execute_result"
    }
   ],
   "source": [
    "ftype = 'classification'\n",
    "selected_WC_catalogue_df = worldcereal_tif_catalogue_df[\n",
    "    (worldcereal_tif_catalogue_df['type']==ftype)&\\\n",
    "    (worldcereal_tif_catalogue_df['aez'].isin(aez_ids))\n",
    "].sort_values(by=['startdate', 'product']).reset_index(drop=True)\n",
    "selected_WC_catalogue_df.shape"
   ]
  },
  {
   "cell_type": "code",
   "execution_count": 11,
   "metadata": {},
   "outputs": [
    {
     "data": {
      "text/html": [
       "<div>\n",
       "<style scoped>\n",
       "    .dataframe tbody tr th:only-of-type {\n",
       "        vertical-align: middle;\n",
       "    }\n",
       "\n",
       "    .dataframe tbody tr th {\n",
       "        vertical-align: top;\n",
       "    }\n",
       "\n",
       "    .dataframe thead th {\n",
       "        text-align: right;\n",
       "    }\n",
       "</style>\n",
       "<table border=\"1\" class=\"dataframe\">\n",
       "  <thead>\n",
       "    <tr style=\"text-align: right;\">\n",
       "      <th></th>\n",
       "      <th>aez</th>\n",
       "      <th>season</th>\n",
       "      <th>product</th>\n",
       "      <th>startdate</th>\n",
       "      <th>enddate</th>\n",
       "      <th>type</th>\n",
       "      <th>filepath</th>\n",
       "    </tr>\n",
       "  </thead>\n",
       "  <tbody>\n",
       "    <tr>\n",
       "      <th>0</th>\n",
       "      <td>43153</td>\n",
       "      <td>tc-wintercereals</td>\n",
       "      <td>wintercereals</td>\n",
       "      <td>2020-10-27</td>\n",
       "      <td>2021-07-06</td>\n",
       "      <td>classification</td>\n",
       "      <td>../../data/worldcereal/WorldCereal_2021_tc-win...</td>\n",
       "    </tr>\n",
       "    <tr>\n",
       "      <th>1</th>\n",
       "      <td>43170</td>\n",
       "      <td>tc-wintercereals</td>\n",
       "      <td>wintercereals</td>\n",
       "      <td>2020-10-30</td>\n",
       "      <td>2021-07-16</td>\n",
       "      <td>classification</td>\n",
       "      <td>../../data/worldcereal/WorldCereal_2021_tc-win...</td>\n",
       "    </tr>\n",
       "    <tr>\n",
       "      <th>2</th>\n",
       "      <td>43170</td>\n",
       "      <td>tc-annual</td>\n",
       "      <td>temporarycrops</td>\n",
       "      <td>2020-10-31</td>\n",
       "      <td>2021-10-31</td>\n",
       "      <td>classification</td>\n",
       "      <td>../../data/worldcereal/WorldCereal_2021_tc-ann...</td>\n",
       "    </tr>\n",
       "    <tr>\n",
       "      <th>3</th>\n",
       "      <td>22190</td>\n",
       "      <td>tc-annual</td>\n",
       "      <td>temporarycrops</td>\n",
       "      <td>2020-11-01</td>\n",
       "      <td>2021-11-01</td>\n",
       "      <td>classification</td>\n",
       "      <td>../../data/worldcereal/WorldCereal_2021_tc-ann...</td>\n",
       "    </tr>\n",
       "    <tr>\n",
       "      <th>4</th>\n",
       "      <td>46172</td>\n",
       "      <td>tc-annual</td>\n",
       "      <td>temporarycrops</td>\n",
       "      <td>2020-11-06</td>\n",
       "      <td>2021-11-06</td>\n",
       "      <td>classification</td>\n",
       "      <td>../../data/worldcereal/WorldCereal_2021_tc-ann...</td>\n",
       "    </tr>\n",
       "    <tr>\n",
       "      <th>5</th>\n",
       "      <td>43153</td>\n",
       "      <td>tc-annual</td>\n",
       "      <td>temporarycrops</td>\n",
       "      <td>2020-11-09</td>\n",
       "      <td>2021-11-09</td>\n",
       "      <td>classification</td>\n",
       "      <td>../../data/worldcereal/WorldCereal_2021_tc-ann...</td>\n",
       "    </tr>\n",
       "    <tr>\n",
       "      <th>6</th>\n",
       "      <td>46172</td>\n",
       "      <td>tc-wintercereals</td>\n",
       "      <td>wintercereals</td>\n",
       "      <td>2020-12-31</td>\n",
       "      <td>2021-08-05</td>\n",
       "      <td>classification</td>\n",
       "      <td>../../data/worldcereal/WorldCereal_2021_tc-win...</td>\n",
       "    </tr>\n",
       "    <tr>\n",
       "      <th>7</th>\n",
       "      <td>22190</td>\n",
       "      <td>tc-wintercereals</td>\n",
       "      <td>wintercereals</td>\n",
       "      <td>2021-01-29</td>\n",
       "      <td>2021-08-12</td>\n",
       "      <td>classification</td>\n",
       "      <td>../../data/worldcereal/WorldCereal_2021_tc-win...</td>\n",
       "    </tr>\n",
       "    <tr>\n",
       "      <th>8</th>\n",
       "      <td>46172</td>\n",
       "      <td>tc-springcereals</td>\n",
       "      <td>springcereals</td>\n",
       "      <td>2021-03-28</td>\n",
       "      <td>2021-11-06</td>\n",
       "      <td>classification</td>\n",
       "      <td>../../data/worldcereal/WorldCereal_2021_tc-spr...</td>\n",
       "    </tr>\n",
       "    <tr>\n",
       "      <th>9</th>\n",
       "      <td>43170</td>\n",
       "      <td>tc-springcereals</td>\n",
       "      <td>springcereals</td>\n",
       "      <td>2021-03-31</td>\n",
       "      <td>2021-10-31</td>\n",
       "      <td>classification</td>\n",
       "      <td>../../data/worldcereal/WorldCereal_2021_tc-spr...</td>\n",
       "    </tr>\n",
       "    <tr>\n",
       "      <th>10</th>\n",
       "      <td>22190</td>\n",
       "      <td>tc-springcereals</td>\n",
       "      <td>springcereals</td>\n",
       "      <td>2021-04-02</td>\n",
       "      <td>2021-11-01</td>\n",
       "      <td>classification</td>\n",
       "      <td>../../data/worldcereal/WorldCereal_2021_tc-spr...</td>\n",
       "    </tr>\n",
       "  </tbody>\n",
       "</table>\n",
       "</div>"
      ],
      "text/plain": [
       "      aez            season         product  startdate    enddate  \\\n",
       "0   43153  tc-wintercereals   wintercereals 2020-10-27 2021-07-06   \n",
       "1   43170  tc-wintercereals   wintercereals 2020-10-30 2021-07-16   \n",
       "2   43170         tc-annual  temporarycrops 2020-10-31 2021-10-31   \n",
       "3   22190         tc-annual  temporarycrops 2020-11-01 2021-11-01   \n",
       "4   46172         tc-annual  temporarycrops 2020-11-06 2021-11-06   \n",
       "5   43153         tc-annual  temporarycrops 2020-11-09 2021-11-09   \n",
       "6   46172  tc-wintercereals   wintercereals 2020-12-31 2021-08-05   \n",
       "7   22190  tc-wintercereals   wintercereals 2021-01-29 2021-08-12   \n",
       "8   46172  tc-springcereals   springcereals 2021-03-28 2021-11-06   \n",
       "9   43170  tc-springcereals   springcereals 2021-03-31 2021-10-31   \n",
       "10  22190  tc-springcereals   springcereals 2021-04-02 2021-11-01   \n",
       "\n",
       "              type                                           filepath  \n",
       "0   classification  ../../data/worldcereal/WorldCereal_2021_tc-win...  \n",
       "1   classification  ../../data/worldcereal/WorldCereal_2021_tc-win...  \n",
       "2   classification  ../../data/worldcereal/WorldCereal_2021_tc-ann...  \n",
       "3   classification  ../../data/worldcereal/WorldCereal_2021_tc-ann...  \n",
       "4   classification  ../../data/worldcereal/WorldCereal_2021_tc-ann...  \n",
       "5   classification  ../../data/worldcereal/WorldCereal_2021_tc-ann...  \n",
       "6   classification  ../../data/worldcereal/WorldCereal_2021_tc-win...  \n",
       "7   classification  ../../data/worldcereal/WorldCereal_2021_tc-win...  \n",
       "8   classification  ../../data/worldcereal/WorldCereal_2021_tc-spr...  \n",
       "9   classification  ../../data/worldcereal/WorldCereal_2021_tc-spr...  \n",
       "10  classification  ../../data/worldcereal/WorldCereal_2021_tc-spr...  "
      ]
     },
     "execution_count": 11,
     "metadata": {},
     "output_type": "execute_result"
    }
   ],
   "source": [
    "selected_WC_catalogue_df"
   ]
  },
  {
   "cell_type": "code",
   "execution_count": 12,
   "metadata": {},
   "outputs": [
    {
     "data": {
      "text/plain": [
       "(11, 2)"
      ]
     },
     "execution_count": 12,
     "metadata": {},
     "output_type": "execute_result"
    }
   ],
   "source": [
    "bounds_s2_grids_gdf = s2_grid_utils.get_s2_grids_gdf(\n",
    "    geojson_epsg_4326=bounds_gdf['geometry'][0],\n",
    "    res=4,\n",
    ")\n",
    "bounds_s2_grids_overlayed_gdf = gpd.overlay(bounds_gdf,bounds_s2_grids_gdf)\n",
    "bounds_s2_grids_overlayed_gdf.shape"
   ]
  },
  {
   "cell_type": "code",
   "execution_count": 13,
   "metadata": {},
   "outputs": [],
   "source": [
    "bounds_s2_grids_overlayed_gdf.to_file(utils.modify_filepath(filepath=bounding_filepath, prefix='s2gridded_'))"
   ]
  },
  {
   "cell_type": "code",
   "execution_count": 14,
   "metadata": {},
   "outputs": [],
   "source": [
    "def crop_tif_to_each_shape_and_save(\n",
    "    src_filepath:str, \n",
    "    shapes_gdf:gpd.GeoDataFrame, \n",
    "    output_folderpath:str, \n",
    "    id_col:str,\n",
    "    overwrite:bool=False,\n",
    "):\n",
    "    data = {\n",
    "        id_col: [],\n",
    "        'tif_filepath': [],\n",
    "    }\n",
    "    for index, row in tqdm.tqdm(shapes_gdf.iterrows(), total=shapes_gdf.shape[0]):\n",
    "        _id = row[id_col]\n",
    "        dst_folderpath = os.path.join(output_folderpath, _id)\n",
    "        os.makedirs(dst_folderpath, exist_ok=True)\n",
    "        dst_filepath = utils.modify_filepath(\n",
    "            filepath=src_filepath,\n",
    "            prefix=f'{_id}_',\n",
    "            new_folderpath=dst_folderpath,\n",
    "        )\n",
    "        if os.path.exists(dst_filepath) and not overwrite:\n",
    "            data['id'].append(_id)\n",
    "            data['tif_filepath'].append(dst_filepath)\n",
    "            continue\n",
    "        try:\n",
    "            out_image, out_meta = utils.crop_tif(\n",
    "                src_filepath=src_filepath, \n",
    "                shapes_gdf=gpd.GeoDataFrame(data={'geometry':[row['geometry']]}, crs=shapes_gdf.crs),\n",
    "            )\n",
    "            with rasterio.open(dst_filepath, 'w', **out_meta) as dst:\n",
    "                dst.write(out_image)\n",
    "            del out_image, out_meta\n",
    "        except ValueError as e:\n",
    "            dst_filepath = None\n",
    "\n",
    "        data['id'].append(_id)\n",
    "        data['tif_filepath'].append(dst_filepath)\n",
    "\n",
    "    tif_filepaths_df = pd.DataFrame(data=data)\n",
    "    return tif_filepaths_df"
   ]
  },
  {
   "cell_type": "code",
   "execution_count": 15,
   "metadata": {},
   "outputs": [
    {
     "name": "stderr",
     "output_type": "stream",
     "text": [
      "  0%|          | 0/11 [00:00<?, ?it/s]"
     ]
    },
    {
     "name": "stdout",
     "output_type": "stream",
     "text": [
      "wintercereals tc-wintercereals 43153\n"
     ]
    },
    {
     "name": "stderr",
     "output_type": "stream",
     "text": [
      "100%|██████████| 11/11 [00:00<00:00, 359.48it/s]\n"
     ]
    },
    {
     "name": "stdout",
     "output_type": "stream",
     "text": [
      "wintercereals tc-wintercereals 43170\n"
     ]
    },
    {
     "name": "stderr",
     "output_type": "stream",
     "text": [
      "100%|██████████| 11/11 [00:00<00:00, 506.21it/s]\n"
     ]
    },
    {
     "name": "stdout",
     "output_type": "stream",
     "text": [
      "temporarycrops tc-annual 43170\n"
     ]
    },
    {
     "name": "stderr",
     "output_type": "stream",
     "text": [
      "100%|██████████| 11/11 [00:00<00:00, 516.55it/s]\n"
     ]
    },
    {
     "name": "stdout",
     "output_type": "stream",
     "text": [
      "temporarycrops tc-annual 22190\n"
     ]
    },
    {
     "name": "stderr",
     "output_type": "stream",
     "text": [
      "100%|██████████| 11/11 [00:00<00:00, 676.80it/s]\n"
     ]
    },
    {
     "name": "stdout",
     "output_type": "stream",
     "text": [
      "temporarycrops tc-annual 46172\n"
     ]
    },
    {
     "name": "stderr",
     "output_type": "stream",
     "text": [
      "100%|██████████| 11/11 [00:00<00:00, 7278.33it/s]\n",
      " 45%|████▌     | 5/11 [00:00<00:00, 48.80it/s]"
     ]
    },
    {
     "name": "stdout",
     "output_type": "stream",
     "text": [
      "temporarycrops tc-annual 43153\n"
     ]
    },
    {
     "name": "stderr",
     "output_type": "stream",
     "text": [
      "100%|██████████| 11/11 [00:00<00:00, 1096.94it/s]\n"
     ]
    },
    {
     "name": "stdout",
     "output_type": "stream",
     "text": [
      "wintercereals tc-wintercereals 46172\n"
     ]
    },
    {
     "name": "stderr",
     "output_type": "stream",
     "text": [
      "100%|██████████| 11/11 [00:00<00:00, 4711.26it/s]\n"
     ]
    },
    {
     "name": "stdout",
     "output_type": "stream",
     "text": [
      "wintercereals tc-wintercereals 22190\n"
     ]
    },
    {
     "name": "stderr",
     "output_type": "stream",
     "text": [
      "100%|██████████| 11/11 [00:00<00:00, 599.07it/s]\n"
     ]
    },
    {
     "name": "stdout",
     "output_type": "stream",
     "text": [
      "springcereals tc-springcereals 46172\n"
     ]
    },
    {
     "name": "stderr",
     "output_type": "stream",
     "text": [
      "100%|██████████| 11/11 [00:00<00:00, 7612.17it/s]\n"
     ]
    },
    {
     "name": "stdout",
     "output_type": "stream",
     "text": [
      "springcereals tc-springcereals 43170\n"
     ]
    },
    {
     "name": "stderr",
     "output_type": "stream",
     "text": [
      "100%|██████████| 11/11 [00:00<00:00, 507.43it/s]\n"
     ]
    },
    {
     "name": "stdout",
     "output_type": "stream",
     "text": [
      "springcereals tc-springcereals 22190\n"
     ]
    },
    {
     "name": "stderr",
     "output_type": "stream",
     "text": [
      "100%|██████████| 11/11 [00:00<00:00, 594.60it/s]\n",
      "100%|██████████| 11/11 [00:00<00:00, 59.39it/s]\n"
     ]
    }
   ],
   "source": [
    "s2_grid_cropped_tifs_dfs = {}\n",
    "\n",
    "for index, row in tqdm.tqdm(\n",
    "    selected_WC_catalogue_df.iterrows(), \n",
    "    total=selected_WC_catalogue_df.shape[0],\n",
    "):\n",
    "    season = row['season']\n",
    "    product = row['product']\n",
    "    aez = row['aez']\n",
    "\n",
    "    print(product, season, aez)\n",
    "\n",
    "    tif_filepath = row['filepath']\n",
    "\n",
    "    cropped_tif_filepaths_df = crop_tif_to_each_shape_and_save(\n",
    "        src_filepath=tif_filepath,\n",
    "        shapes_gdf=bounds_s2_grids_overlayed_gdf,\n",
    "        output_folderpath=os.path.join(outputs_folderpath, 's2_grid_level', 'worldcereal'),\n",
    "        id_col='id',\n",
    "        # overwrite=True,\n",
    "    )\n",
    "\n",
    "    s2_grid_cropped_tifs_dfs[(product, season, aez)] = cropped_tif_filepaths_df"
   ]
  },
  {
   "cell_type": "code",
   "execution_count": null,
   "metadata": {},
   "outputs": [],
   "source": [
    "s2_grid_cropped_tifs_dfs_list = []\n",
    "for key, _df in s2_grid_cropped_tifs_dfs.items():\n",
    "    product, season, aez = key\n",
    "    _df['product'] = product\n",
    "    _df['season'] = season\n",
    "    _df['aez'] = str(aez)\n",
    "    s2_grid_cropped_tifs_dfs_list.append(_df.dropna())"
   ]
  },
  {
   "cell_type": "code",
   "execution_count": null,
   "metadata": {},
   "outputs": [],
   "source": [
    "cropmask_s2grid_tifs_df = pd.concat(s2_grid_cropped_tifs_dfs_list).reset_index(drop=True)\n",
    "cropmask_s2grid_tifs_df.shape"
   ]
  },
  {
   "cell_type": "code",
   "execution_count": null,
   "metadata": {},
   "outputs": [],
   "source": [
    "cropmask_s2grid_tifs_catalogue_filepath = os.path.join(outputs_folderpath, 'cropmask_s2grid_tifs_catalogue.csv')\n",
    "cropmask_s2grid_tifs_df.to_csv(cropmask_s2grid_tifs_catalogue_filepath, index=False)"
   ]
  },
  {
   "cell_type": "code",
   "execution_count": null,
   "metadata": {},
   "outputs": [],
   "source": [
    "data = {\n",
    "    'id': [],\n",
    "    'product': [],\n",
    "    'tif_filepath': [],\n",
    "}\n",
    "\n",
    "CROPMASK_NODATA = 255\n",
    "CROPMASK_ISCROP = 100\n",
    "CROPMASK_ISNOTCROP = 0\n",
    "\n",
    "resampling = rasterio.merge.Resampling.nearest\n",
    "\n",
    "overwrite = False\n",
    "\n",
    "aggregated_cropmask_folderpath = os.path.join(outputs_folderpath, 's2_grid_level', 'aggregated_worldcereal')\n",
    "os.makedirs(aggregated_cropmask_folderpath, exist_ok=True)\n",
    "\n",
    "for _id, _product in tqdm.tqdm(set(zip(cropmask_s2grid_tifs_df['id'], cropmask_s2grid_tifs_df['product']))):\n",
    "    _tif_filepaths = cropmask_s2grid_tifs_df[\n",
    "        (cropmask_s2grid_tifs_df['id'] == _id) &\n",
    "        (cropmask_s2grid_tifs_df['product'] == _product)\n",
    "    ]['tif_filepath'].to_list()\n",
    "\n",
    "    dst_filepath = os.path.join(aggregated_cropmask_folderpath, f'{_id}_{_product}.tif')\n",
    "\n",
    "    if not os.path.exists(dst_filepath) or overwrite:\n",
    "        out_image, out_transform = rasterio.merge.merge(\n",
    "            _tif_filepaths,\n",
    "            method=rasterio.merge.copy_max,\n",
    "            resampling=resampling,\n",
    "            nodata=CROPMASK_NODATA,\n",
    "        )\n",
    "\n",
    "        out_image[out_image != CROPMASK_ISCROP] = CROPMASK_ISNOTCROP\n",
    "\n",
    "        with rasterio.open(_tif_filepaths[0]) as ref:\n",
    "            out_meta = ref.meta.copy()\n",
    "\n",
    "        out_meta.update({\n",
    "            'count': out_image.shape[0],\n",
    "            'height': out_image.shape[1],\n",
    "            'width': out_image.shape[2],\n",
    "            'transform': out_transform,\n",
    "            'nodata': CROPMASK_NODATA,\n",
    "            'compress':'lzw',\n",
    "        })\n",
    "\n",
    "        with rasterio.open(dst_filepath, 'w', **out_meta) as dst:\n",
    "            dst.write(out_image)\n",
    "\n",
    "        del out_image\n",
    "    \n",
    "    data['id'].append(_id)\n",
    "    data['product'].append(_product)\n",
    "    data['tif_filepath'].append(dst_filepath)\n",
    "\n",
    "aggregated_cropmask_tif_filepaths_df = pd.DataFrame(data=data)\n",
    "aggregated_cropmask_tif_filepaths_df.shape"
   ]
  },
  {
   "cell_type": "code",
   "execution_count": null,
   "metadata": {},
   "outputs": [],
   "source": [
    "# merging springcereals and wintercereals into cereal\n",
    "\n",
    "pivoted_aggregated_cropmask_tif_filepaths_df = aggregated_cropmask_tif_filepaths_df.pivot(\n",
    "    index=['id'], columns=['product'], values=['tif_filepath']\n",
    ")\n",
    "\n",
    "overwrite = False\n",
    "\n",
    "for index, row in tqdm.tqdm(\n",
    "    pivoted_aggregated_cropmask_tif_filepaths_df.iterrows(),\n",
    "    total=pivoted_aggregated_cropmask_tif_filepaths_df.shape[0],\n",
    "):\n",
    "    _springcereals_tif_filepath = row[('tif_filepath', 'springcereals')]\n",
    "    _wintercereals_tif_filepath = row[('tif_filepath', 'wintercereals')]\n",
    "    _cereals_tif_filepath = os.path.join(aggregated_cropmask_folderpath, f'{index}_cereals.tif')\n",
    "\n",
    "    if overwrite or not os.path.exists(_cereals_tif_filepath):\n",
    "        with rasterio.open(_springcereals_tif_filepath) as ref:\n",
    "            out_meta = ref.meta.copy()\n",
    "\n",
    "        out_image, out_transform = rasterio.merge.merge(\n",
    "            [_springcereals_tif_filepath, _wintercereals_tif_filepath],\n",
    "            method=rasterio.merge.copy_max,\n",
    "            resampling=resampling,\n",
    "            nodata=CROPMASK_NODATA,\n",
    "        )\n",
    "\n",
    "        out_meta.update({\n",
    "            'count': out_image.shape[0],\n",
    "            'height': out_image.shape[1],\n",
    "            'width': out_image.shape[2],\n",
    "            'transform': out_transform,\n",
    "            'nodata': CROPMASK_NODATA,\n",
    "            'compress':'lzw',\n",
    "        })\n",
    "\n",
    "        with rasterio.open(_cereals_tif_filepath, 'w', **out_meta) as dst:\n",
    "            dst.write(out_image)\n",
    "\n",
    "        del out_image\n",
    "    \n",
    "    pivoted_aggregated_cropmask_tif_filepaths_df.loc[index, ('tif_filepath', 'cereals')] = _cereals_tif_filepath\n",
    "    "
   ]
  },
  {
   "cell_type": "code",
   "execution_count": null,
   "metadata": {},
   "outputs": [],
   "source": [
    "aggregated_cropmask_tif_filepaths_df = \\\n",
    "pivoted_aggregated_cropmask_tif_filepaths_df.reset_index().melt(\n",
    "    id_vars=[('id', '')]\n",
    ").drop(\n",
    "    columns=[None]\n",
    ").rename(\n",
    "    columns={('id',''): 'id', 'value': 'tif_filepath'}\n",
    ")"
   ]
  },
  {
   "cell_type": "code",
   "execution_count": null,
   "metadata": {},
   "outputs": [],
   "source": [
    "aggregated_cropmask_tif_catalogue_filepath = os.path.join(outputs_folderpath, 'aggregated_cropmask_tif_filepaths_catalogue.csv')\n",
    "aggregated_cropmask_tif_filepaths_df.to_csv(aggregated_cropmask_tif_catalogue_filepath, index=False)"
   ]
  },
  {
   "cell_type": "code",
   "execution_count": null,
   "metadata": {},
   "outputs": [],
   "source": [
    "def resample_WC_to_MODIS_and_save(\n",
    "    ref_filepath:str,\n",
    "    src_filepath:str,\n",
    "    dst_filepath:str,\n",
    "    resampling = rasterio.warp.Resampling.average,\n",
    "):\n",
    "    DST_NODATA = 0\n",
    "\n",
    "    with rasterio.open(ref_filepath) as ref:\n",
    "        ref_meta = ref.meta.copy()\n",
    "    \n",
    "    with rasterio.open(src_filepath) as src:\n",
    "        src_meta = src.meta.copy()\n",
    "        src_image = src.read(1)\n",
    "\n",
    "    src_image[src_image!=100] = 0\n",
    "    dst_image = np.zeros((ref_meta['height'], ref_meta['width']))\n",
    "    \n",
    "    rasterio.warp.reproject(\n",
    "        source = src_image,\n",
    "        destination = dst_image,\n",
    "        src_transform = src_meta['transform'],\n",
    "        dst_transform = ref_meta['transform'],\n",
    "        src_nodata = src_meta['nodata'],\n",
    "        dst_nodata = DST_NODATA,\n",
    "        src_crs = src_meta['crs'],\n",
    "        dst_crs = ref_meta['crs'],\n",
    "        resampling = resampling,\n",
    "    )\n",
    "\n",
    "    ref_meta['nodata'] = DST_NODATA\n",
    "\n",
    "    with rasterio.open(dst_filepath, 'w', **ref_meta) as dst:\n",
    "        dst.write(np.expand_dims(dst_image, axis=0))\n"
   ]
  },
  {
   "cell_type": "code",
   "execution_count": null,
   "metadata": {},
   "outputs": [],
   "source": [
    "reference_geotiff = '../../data/GEOGLAM-BACS_v1.0.0/Percent_Spring_Wheat.tif'\n",
    "\n",
    "data = {\n",
    "    'id': [],\n",
    "    'product': [],\n",
    "    'tif_filepath': [],\n",
    "}\n",
    "\n",
    "overwrite = False\n",
    "\n",
    "resampled_cropmasks_folderpath = os.path.join(outputs_folderpath, 's2_grid_level', 'resampled_cropmasks')\n",
    "os.makedirs(resampled_cropmasks_folderpath, exist_ok=True)\n",
    "\n",
    "for index, row in tqdm.tqdm(\n",
    "    aggregated_cropmask_tif_filepaths_df.iterrows(), \n",
    "    total=aggregated_cropmask_tif_filepaths_df.shape[0],\n",
    "):\n",
    "    s2_grid_id = row['id']\n",
    "    product = row['product']\n",
    "    cropmask_filepath = row['tif_filepath']\n",
    "\n",
    "    resampled_cropmask_filepath = os.path.join(resampled_cropmasks_folderpath, f'resampled_{s2_grid_id}_{product}.tif')\n",
    "\n",
    "    if not os.path.exists(resampled_cropmask_filepath) or overwrite:\n",
    "        resample_WC_to_MODIS_and_save(\n",
    "            ref_filepath=reference_geotiff,\n",
    "            src_filepath=cropmask_filepath,\n",
    "            dst_filepath=resampled_cropmask_filepath,\n",
    "            resampling=rasterio.merge.Resampling.average,\n",
    "        )\n",
    "    \n",
    "    data['id'].append(s2_grid_id)\n",
    "    data['product'].append(product)\n",
    "    data['tif_filepath'].append(resampled_cropmask_filepath)\n",
    "\n",
    "resampled_cropmask_s2grid_tifs_df = pd.DataFrame(data=data)"
   ]
  },
  {
   "cell_type": "code",
   "execution_count": null,
   "metadata": {},
   "outputs": [],
   "source": [
    "resampled_cropmask_catalogue_filepath = os.path.join(outputs_folderpath, 'resampled_cropmask_catalogue.csv')\n",
    "resampled_cropmask_s2grid_tifs_df.to_csv(resampled_cropmask_catalogue_filepath, index=False)"
   ]
  },
  {
   "cell_type": "code",
   "execution_count": null,
   "metadata": {},
   "outputs": [],
   "source": [
    "merged_cropmask_folderpath = os.path.join(outputs_folderpath, 'merged_WC_cropmask')\n",
    "os.makedirs(merged_cropmask_folderpath, exist_ok=True)"
   ]
  },
  {
   "cell_type": "code",
   "execution_count": null,
   "metadata": {},
   "outputs": [],
   "source": [
    "def merge_tifs(\n",
    "    tif_filepaths:list[str], \n",
    "    dst_filepath:str, \n",
    "    bounds:tuple=None, \n",
    "    method=rasterio.merge.copy_max,\n",
    "):\n",
    "    with rasterio.open(tif_filepaths[0]) as src:\n",
    "        out_meta = src.meta.copy()\n",
    "    out_image, out_transform = rasterio.merge.merge(\n",
    "        datasets=tif_filepaths,\n",
    "        nodata=out_meta['nodata'],\n",
    "        bounds=bounds,\n",
    "        method=method,\n",
    "    )\n",
    "    out_meta.update({\n",
    "        \"driver\": \"GTiff\",\n",
    "        \"height\": out_image.shape[1],\n",
    "        \"width\": out_image.shape[2],\n",
    "        \"transform\": out_transform,\n",
    "        \"compress\": \"lzw\",\n",
    "    })\n",
    "    with rasterio.open(dst_filepath, 'w', **out_meta) as dst:\n",
    "        dst.write(out_image)"
   ]
  },
  {
   "cell_type": "code",
   "execution_count": null,
   "metadata": {},
   "outputs": [],
   "source": [
    "products = resampled_cropmask_s2grid_tifs_df['product'].unique()\n",
    "products"
   ]
  },
  {
   "cell_type": "code",
   "execution_count": null,
   "metadata": {},
   "outputs": [],
   "source": [
    "bounds = tuple(bounds_gdf.bounds.iloc[0])\n",
    "bounds"
   ]
  },
  {
   "cell_type": "code",
   "execution_count": null,
   "metadata": {},
   "outputs": [],
   "source": [
    "# merge resample modified cropmasks\n",
    "\n",
    "data = {\n",
    "    'product': [],\n",
    "    'tif_filepath': [],\n",
    "}\n",
    "\n",
    "for product in tqdm.tqdm(products):\n",
    "    _tif_filepaths = resampled_cropmask_s2grid_tifs_df[\n",
    "        (resampled_cropmask_s2grid_tifs_df['product']==product)\n",
    "    ]['tif_filepath'].to_list()\n",
    "    merged_tif_filepath = os.path.join(merged_cropmask_folderpath, f'{product}.tif')\n",
    "    merge_tifs(\n",
    "        tif_filepaths=_tif_filepaths,\n",
    "        dst_filepath=merged_tif_filepath,\n",
    "        bounds=bounds,\n",
    "    )\n",
    "    data['product'].append(product)\n",
    "    data['tif_filepath'].append(merged_tif_filepath)\n",
    "\n",
    "merged_resampled_cropmask_catalogue_df = pd.DataFrame(data=data)"
   ]
  },
  {
   "cell_type": "code",
   "execution_count": null,
   "metadata": {},
   "outputs": [],
   "source": []
  }
 ],
 "metadata": {
  "kernelspec": {
   "display_name": ".venv",
   "language": "python",
   "name": "python3"
  },
  "language_info": {
   "codemirror_mode": {
    "name": "ipython",
    "version": 3
   },
   "file_extension": ".py",
   "mimetype": "text/x-python",
   "name": "python",
   "nbconvert_exporter": "python",
   "pygments_lexer": "ipython3",
   "version": "3.10.11"
  }
 },
 "nbformat": 4,
 "nbformat_minor": 2
}
