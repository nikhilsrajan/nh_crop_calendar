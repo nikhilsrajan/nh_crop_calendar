{
 "cells": [
  {
   "cell_type": "code",
   "execution_count": null,
   "metadata": {},
   "outputs": [],
   "source": [
    "import os"
   ]
  },
  {
   "cell_type": "code",
   "execution_count": null,
   "metadata": {},
   "outputs": [],
   "source": [
    "import sys\n",
    "sys.path.append('..')"
   ]
  },
  {
   "cell_type": "code",
   "execution_count": null,
   "metadata": {},
   "outputs": [],
   "source": [
    "import config\n",
    "\n",
    "import presets\n",
    "import create_weather_data_catalogue as cwdc\n",
    "import aggregate_tifs_to_df as at2d"
   ]
  },
  {
   "cell_type": "code",
   "execution_count": null,
   "metadata": {},
   "outputs": [],
   "source": [
    "# cropmask_tif_filepath = os.path.join(config.FOLDERPATH_MASKS, 'cereals.tif')\n",
    "# interp_tif_filepath = os.path.join(config.FOLDERPATH_MASKS, 'temporarycrops.tif')\n",
    "\n",
    "\n",
    "cropmask_tif_filepath = os.path.join(config.FOLDERPATH_MASKS, 'geoglam_wc_maizemask.tif')\n",
    "interp_tif_filepath = os.path.join(config.FOLDERPATH_MASKS, 'geoglam_wc_interp.tif')"
   ]
  },
  {
   "cell_type": "code",
   "execution_count": null,
   "metadata": {},
   "outputs": [],
   "source": [
    "selected_year = 2019 # options: 2019, 2020, 2021, 2022, 2023"
   ]
  },
  {
   "cell_type": "code",
   "execution_count": null,
   "metadata": {},
   "outputs": [],
   "source": [
    "YEARS = [selected_year]"
   ]
  },
  {
   "cell_type": "code",
   "execution_count": null,
   "metadata": {},
   "outputs": [],
   "source": [
    "os.makedirs(config.FOLDERPATH_AGGREGRATE_DFS, exist_ok=True)"
   ]
  },
  {
   "cell_type": "code",
   "execution_count": null,
   "metadata": {},
   "outputs": [],
   "source": [
    "xy_gdf = at2d.create_xy_gdf(\n",
    "    cropmask_tif_filepath = cropmask_tif_filepath,\n",
    "    interp_tif_filepath = interp_tif_filepath,\n",
    ")"
   ]
  },
  {
   "cell_type": "code",
   "execution_count": null,
   "metadata": {},
   "outputs": [],
   "source": [
    "xy_gdf.to_file(os.path.join(\n",
    "    config.FOLDERPATH_AGGREGRATE_DFS,\n",
    "    'xy.geojson',\n",
    "))"
   ]
  },
  {
   "cell_type": "code",
   "execution_count": null,
   "metadata": {},
   "outputs": [],
   "source": [
    "weather_catalogue_df = cwdc.create_weather_data_catalogue_df(\n",
    "    years = YEARS,\n",
    "    attribute_settings_dict = {\n",
    "        presets.ATTR_CHIRPS: cwdc.Settings(\n",
    "            attribute_folderpath = config.FOLDERPATH_CLUSTERFILES_CHIRPS,\n",
    "            download_folderpath = config.FOLDERPATH_CHC_CHIRP_V2P0_P05,\n",
    "        ),\n",
    "        presets.ATTR_CPCTMAX: cwdc.Settings(\n",
    "            attribute_folderpath = config.FOLDERPATH_CLUSTERFILES_CPCTMAX,\n",
    "        ),\n",
    "        presets.ATTR_CPCTMIN: cwdc.Settings(\n",
    "            attribute_folderpath = config.FOLDERPATH_CLUSTERFILES_CPCTMIN,\n",
    "        ),\n",
    "        presets.ATTR_ESI4WK: cwdc.Settings(\n",
    "            attribute_folderpath = config.FOLDERPATH_CLUSTERFILES_ESI4WK,\n",
    "        ),\n",
    "        presets.ATTR_NSIDC: cwdc.Settings(\n",
    "            attribute_folderpath = config.FOLDERPATH_CLUSTERFILES_NSIDC,\n",
    "        ),\n",
    "        presets.ATTR_NDVI_INTERP: cwdc.Settings(\n",
    "            attribute_folderpath = os.path.join(config.FOLDERPATH_OUTPUTS, 'interp_out/ndvi/tst_interp'),\n",
    "        ),\n",
    "    }\n",
    ")"
   ]
  },
  {
   "cell_type": "code",
   "execution_count": null,
   "metadata": {},
   "outputs": [],
   "source": [
    "weather_catalogue_df"
   ]
  },
  {
   "cell_type": "code",
   "execution_count": null,
   "metadata": {},
   "outputs": [],
   "source": [
    "weather_catalogue_df[at2d.METHOD_COL] \\\n",
    "= at2d.LoadTIFMethod.READ_AND_CROP\n",
    "weather_catalogue_df.loc[\n",
    "    weather_catalogue_df[cwdc.FILETYPE_COL] == cwdc.TIF_GZ_EXT,\n",
    "    at2d.METHOD_COL\n",
    "] = at2d.LoadTIFMethod.COREGISTER_AND_CROP\n",
    "weather_catalogue_df.loc[\n",
    "    weather_catalogue_df[cwdc.ATTRIBUTE_COL] == presets.ATTR_NDVI_INTERP, \n",
    "    at2d.METHOD_COL\n",
    "] = at2d.LoadTIFMethod.READ_NO_CROP"
   ]
  },
  {
   "cell_type": "code",
   "execution_count": null,
   "metadata": {},
   "outputs": [],
   "source": [
    "aggregated_df = at2d.aggregate_tifs_to_df(\n",
    "    catalogue_df = weather_catalogue_df,\n",
    "    mask_tif_filepaths = [\n",
    "        cropmask_tif_filepath,\n",
    "        interp_tif_filepath,\n",
    "    ],\n",
    "    roi_geom_filepath = config.FILEPATH_ROI_SHAPE,\n",
    "    ref_tif_filepath = config.FILEPATH_REFERENCE_GEOTIFF,\n",
    "    csvs_folderpath = config.FOLDERPATH_CSVS,\n",
    ")"
   ]
  },
  {
   "cell_type": "code",
   "execution_count": null,
   "metadata": {},
   "outputs": [],
   "source": [
    "aggregated_df"
   ]
  },
  {
   "cell_type": "code",
   "execution_count": null,
   "metadata": {},
   "outputs": [],
   "source": [
    "aggregated_df.describe()"
   ]
  },
  {
   "cell_type": "code",
   "execution_count": null,
   "metadata": {},
   "outputs": [],
   "source": [
    "aggregated_df.to_pickle(os.path.join(\n",
    "    config.FOLDERPATH_AGGREGRATE_DFS,\n",
    "    f'{config.JOB_NAME}_{selected_year}.pickle',\n",
    "))"
   ]
  },
  {
   "cell_type": "code",
   "execution_count": null,
   "metadata": {},
   "outputs": [],
   "source": []
  }
 ],
 "metadata": {
  "kernelspec": {
   "display_name": ".venv",
   "language": "python",
   "name": "python3"
  },
  "language_info": {
   "codemirror_mode": {
    "name": "ipython",
    "version": 3
   },
   "file_extension": ".py",
   "mimetype": "text/x-python",
   "name": "python",
   "nbconvert_exporter": "python",
   "pygments_lexer": "ipython3",
   "version": "3.10.14"
  }
 },
 "nbformat": 4,
 "nbformat_minor": 2
}
