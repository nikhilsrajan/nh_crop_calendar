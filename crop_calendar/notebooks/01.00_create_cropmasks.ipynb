{
 "cells": [
  {
   "cell_type": "code",
   "execution_count": null,
   "metadata": {},
   "outputs": [],
   "source": [
    "import os\n",
    "import rasterio\n",
    "import numpy as np"
   ]
  },
  {
   "cell_type": "code",
   "execution_count": null,
   "metadata": {},
   "outputs": [],
   "source": [
    "import sys\n",
    "sys.path.append('..')"
   ]
  },
  {
   "cell_type": "code",
   "execution_count": null,
   "metadata": {},
   "outputs": [],
   "source": [
    "import config\n",
    "\n",
    "import rsutils.utils as utils\n",
    "import resample_worldcereal_cropmasks"
   ]
  },
  {
   "cell_type": "code",
   "execution_count": null,
   "metadata": {},
   "outputs": [],
   "source": [
    "aez_s2_grid_folderpath = os.path.join(config.FOLDERPATH_OUTPUTS, 's2_grid_level/worldcereal/')\n",
    "s2_grid_level_folderpath = os.path.join(config.FOLDERPATH_OUTPUTS, 's2_grid_level/aggregated_worldcereal/')\n",
    "merged_product_folderpath = os.path.join(config.FOLDERPATH_OUTPUTS, 's2_grid_level/aggregated_worldcereal/')\n",
    "resampled_cropmasks_folderpath = os.path.join(config.FOLDERPATH_OUTPUTS, 's2_grid_level/resampled_cropmasks/')\n",
    "output_folderpath = os.path.join(config.FOLDERPATH_OUTPUTS, 'merged_WC_cropmask/')"
   ]
  },
  {
   "cell_type": "code",
   "execution_count": null,
   "metadata": {},
   "outputs": [],
   "source": [
    "WC_S2_GRID_RES = 4\n",
    "\n",
    "WC_PRODUCTS_MERGE_DICT = {\n",
    "    # 'cereals': ['tc-springcereals_springcereals', 'tc-wintercereals_wintercereals'] # JOB_NAME: 'France'\n",
    "    'maize': ['tc-maize-main_maize', 'tc-maize-second_maize'] # JOB_NAME: 'south-east-africa'\n",
    "}\n",
    "\n",
    "WC_OUTPRODUCTS = [\n",
    "    'maize', \n",
    "    'tc-annual_temporarycrops',\n",
    "]\n",
    "BINARY_MASK_SETTINGS = {\n",
    "    'maize': {\n",
    "        'threshold': 10,\n",
    "        'how': 'gte',\n",
    "    },\n",
    "    'tc-annual_temporarycrops': {\n",
    "        'threshold': 0,\n",
    "        'how': 'gt',\n",
    "    }\n",
    "}"
   ]
  },
  {
   "cell_type": "code",
   "execution_count": null,
   "metadata": {},
   "outputs": [],
   "source": [
    "# 49 m 12.2 s\n",
    "merged_cropmask_catalogue_df = \\\n",
    "resample_worldcereal_cropmasks.resample_worldcereal_cropmasks(\n",
    "    roi_geom_filepath = config.FILEPATH_ROI_SHAPE,\n",
    "    worldcereal_folderpath = config.FOLDERPATH_WORLDCEREAL,\n",
    "    worldcereal_aez_filepath = config.FILEPATH_WORLDCEREAL_AEZ,\n",
    "    ref_tif_filepath = config.FILEPATH_REFERENCE_GEOTIFF,\n",
    "    aez_s2_grid_folderpath = aez_s2_grid_folderpath,\n",
    "    s2_grid_level_folderpath = s2_grid_level_folderpath,\n",
    "    merged_product_folderpath = merged_product_folderpath,\n",
    "    resampled_cropmasks_folderpath = resampled_cropmasks_folderpath,\n",
    "    output_folderpath = output_folderpath,\n",
    "    merge_products_dict = WC_PRODUCTS_MERGE_DICT,\n",
    "    out_products = WC_OUTPRODUCTS,\n",
    "    s2_grid_res = WC_S2_GRID_RES,\n",
    "    overwrite = False,\n",
    ")"
   ]
  },
  {
   "cell_type": "code",
   "execution_count": null,
   "metadata": {},
   "outputs": [],
   "source": [
    "merged_cropmask_catalogue_df"
   ]
  },
  {
   "cell_type": "code",
   "execution_count": null,
   "metadata": {},
   "outputs": [],
   "source": [
    "tif_filepaths = dict(zip(\n",
    "    merged_cropmask_catalogue_df['product'],\n",
    "    merged_cropmask_catalogue_df['tif_filepath'],\n",
    "))\n",
    "\n",
    "tif_filepaths"
   ]
  },
  {
   "cell_type": "code",
   "execution_count": null,
   "metadata": {},
   "outputs": [],
   "source": [
    "os.makedirs(config.FOLDERPATH_MASKS, exist_ok=True)"
   ]
  },
  {
   "cell_type": "code",
   "execution_count": null,
   "metadata": {},
   "outputs": [],
   "source": [
    "def create_binary_mask(\n",
    "    tif_filepath:str,\n",
    "    out_mask_filepath:str,\n",
    "    min_threshold,\n",
    "    how='gte',\n",
    "):\n",
    "    with rasterio.open(tif_filepath) as src:\n",
    "        ndarray = src.read()\n",
    "        meta = src.meta.copy()\n",
    "    \n",
    "    out_ndarray = np.zeros(shape=ndarray.shape)\n",
    "    if how == 'gte':\n",
    "        out_ndarray[ndarray >= min_threshold] = 1\n",
    "    elif how == 'gt':\n",
    "        out_ndarray[ndarray > min_threshold] = 1\n",
    "    else:\n",
    "        raise ValueError(f\"how must be either 'gte' or 'gt'.\")\n",
    "\n",
    "    _folderpath = os.path.split(out_mask_filepath)[0]\n",
    "    os.makedirs(_folderpath, exist_ok=True)\n",
    "\n",
    "    meta['dtype'] = rasterio.uint8\n",
    "    meta['nodata'] = 0\n",
    "\n",
    "    with rasterio.open(out_mask_filepath, 'w', **meta) as dst:\n",
    "        dst.write(out_ndarray)"
   ]
  },
  {
   "cell_type": "code",
   "execution_count": null,
   "metadata": {},
   "outputs": [],
   "source": [
    "binary_mask_filepaths = {}\n",
    "\n",
    "for key, binmask_config in BINARY_MASK_SETTINGS.items():\n",
    "    tif_filepath = tif_filepaths[key]\n",
    "    out_mask_filepath = utils.modify_filepath(\n",
    "        filepath=tif_filepath,\n",
    "        new_folderpath=config.FOLDERPATH_MASKS,\n",
    "    )\n",
    "    binary_mask_filepaths[key] = out_mask_filepath\n",
    "    create_binary_mask(\n",
    "        tif_filepath=tif_filepath, \n",
    "        out_mask_filepath=  out_mask_filepath,\n",
    "        min_threshold=binmask_config['threshold'],\n",
    "        how=binmask_config['how'],\n",
    "    )"
   ]
  },
  {
   "cell_type": "code",
   "execution_count": null,
   "metadata": {},
   "outputs": [],
   "source": [
    "geoglam_maize_geotiff = '../data/GEOGLAM-BACS_v1.0.0/Percent_Maize.tif'"
   ]
  },
  {
   "cell_type": "code",
   "execution_count": null,
   "metadata": {},
   "outputs": [],
   "source": [
    "import geopandas as gpd\n",
    "import rasterio.warp"
   ]
  },
  {
   "cell_type": "code",
   "execution_count": null,
   "metadata": {},
   "outputs": [],
   "source": [
    "def crop_and_save(\n",
    "    src_filepath:str,\n",
    "    dst_filepath:str,\n",
    "    shapes_gdf:gpd.GeoDataFrame,\n",
    "):\n",
    "    out_ndarray, out_meta = utils.crop_tif(\n",
    "        src_filepath = src_filepath,\n",
    "        shapes_gdf = shapes_gdf,\n",
    "    )\n",
    "\n",
    "    with rasterio.open(dst_filepath, 'w', **out_meta) as dst:\n",
    "        dst.write(out_ndarray)\n",
    "\n",
    "\n",
    "def crop_and_resample(\n",
    "    ref_filepath:str,\n",
    "    src_filepath:str,\n",
    "    dst_filepath:str,\n",
    "    shapes_gdf:gpd.GeoDataFrame,\n",
    "    resampling = rasterio.warp.Resampling.average,\n",
    "    src_nodata = None,\n",
    "    dst_nodata = None,\n",
    "    dst_dtype = None,\n",
    "    working_dir:str = None,\n",
    "    delete_temp_files:bool = True,\n",
    "):\n",
    "    cropped_ref_filepath = utils.add_epochs_prefix(\n",
    "        filepath = ref_filepath,\n",
    "        prefix = 'cropped_',\n",
    "        new_folderpath = working_dir,\n",
    "    )\n",
    "\n",
    "    crop_and_save(\n",
    "        src_filepath = ref_filepath,\n",
    "        dst_filepath = cropped_ref_filepath,\n",
    "        shapes_gdf = shapes_gdf,\n",
    "    )\n",
    "\n",
    "    cropped_src_filepath = utils.add_epochs_prefix(\n",
    "        filepath = src_filepath,\n",
    "        prefix = 'cropped_',\n",
    "        new_folderpath = working_dir,\n",
    "    )\n",
    "\n",
    "    crop_and_save(\n",
    "        src_filepath = src_filepath,\n",
    "        dst_filepath = cropped_src_filepath,\n",
    "        shapes_gdf = shapes_gdf,\n",
    "    )\n",
    "\n",
    "    utils.resample_tif(\n",
    "        ref_filepath = cropped_ref_filepath,\n",
    "        src_filepath = cropped_src_filepath,\n",
    "        dst_filepath = dst_filepath,\n",
    "        resampling = resampling,\n",
    "        src_nodata = src_nodata,\n",
    "        dst_nodata = dst_nodata,\n",
    "        dst_dtype = dst_dtype,\n",
    "    )\n",
    "\n",
    "    if delete_temp_files:\n",
    "        os.remove(cropped_ref_filepath)\n",
    "        os.remove(cropped_src_filepath)"
   ]
  },
  {
   "cell_type": "code",
   "execution_count": null,
   "metadata": {},
   "outputs": [],
   "source": [
    "cropped_geoglam_maize_geotiff = utils.modify_filepath(\n",
    "    filepath = geoglam_maize_geotiff,\n",
    "    prefix = 'cropped_',\n",
    "    new_folderpath = config.FOLDERPATH_OUTPUTS,\n",
    ")\n",
    "\n",
    "crop_and_resample(\n",
    "    ref_filepath = config.FILEPATH_REFERENCE_GEOTIFF,\n",
    "    src_filepath = geoglam_maize_geotiff,\n",
    "    dst_filepath = cropped_geoglam_maize_geotiff,\n",
    "    shapes_gdf = utils.get_actual_bounds_gdf(\n",
    "        src_filepath = config.FILEPATH_REFERENCE_GEOTIFF,\n",
    "        shapes_gdf = gpd.read_file(config.FILEPATH_ROI_SHAPE),\n",
    "    ),\n",
    "    resampling=rasterio.warp.Resampling.nearest,\n",
    "    src_nodata=10001,\n",
    "    dst_nodata=10001,\n",
    ")"
   ]
  },
  {
   "cell_type": "code",
   "execution_count": null,
   "metadata": {},
   "outputs": [],
   "source": [
    "with rasterio.open(cropped_geoglam_maize_geotiff) as src:\n",
    "    print(src.meta)"
   ]
  },
  {
   "cell_type": "code",
   "execution_count": null,
   "metadata": {},
   "outputs": [],
   "source": [
    "cropped_geoglam_cropmask_filepath = utils.modify_filepath(\n",
    "    filepath = cropped_geoglam_maize_geotiff,\n",
    "    prefix = 'cropmask_',\n",
    "    new_folderpath = config.FOLDERPATH_MASKS,\n",
    ")\n",
    "\n",
    "cropped_geoglam_interp_filepath = utils.modify_filepath(\n",
    "    filepath = cropped_geoglam_maize_geotiff,\n",
    "    prefix = 'interp_',\n",
    "    new_folderpath = config.FOLDERPATH_MASKS,\n",
    ")"
   ]
  },
  {
   "cell_type": "code",
   "execution_count": null,
   "metadata": {},
   "outputs": [],
   "source": [
    "create_binary_mask(\n",
    "    tif_filepath = cropped_geoglam_maize_geotiff,\n",
    "    out_mask_filepath = cropped_geoglam_cropmask_filepath,\n",
    "    min_threshold = 10 * 100,\n",
    "    how = 'gte',\n",
    ")\n",
    "\n",
    "create_binary_mask(\n",
    "    tif_filepath = cropped_geoglam_maize_geotiff,\n",
    "    out_mask_filepath = cropped_geoglam_interp_filepath,\n",
    "    min_threshold = 0 * 100,\n",
    "    how = 'gt',\n",
    ")"
   ]
  },
  {
   "cell_type": "code",
   "execution_count": null,
   "metadata": {},
   "outputs": [],
   "source": [
    "tif_filepaths"
   ]
  },
  {
   "cell_type": "code",
   "execution_count": null,
   "metadata": {},
   "outputs": [],
   "source": [
    "geoglam_wc_cropmask_tif_filepath = os.path.join(config.FOLDERPATH_MASKS, 'geoglam_wc_maizemask.tif')\n",
    "\n",
    "resample_worldcereal_cropmasks.merge_tifs(\n",
    "    tif_filepaths = [\n",
    "        binary_mask_filepaths['maize'],\n",
    "        cropped_geoglam_cropmask_filepath,\n",
    "    ],\n",
    "    dst_filepath = geoglam_wc_cropmask_tif_filepath,\n",
    ")"
   ]
  },
  {
   "cell_type": "code",
   "execution_count": null,
   "metadata": {},
   "outputs": [],
   "source": [
    "geoglam_wc_interp_tif_filepath = os.path.join(config.FOLDERPATH_MASKS, 'geoglam_wc_interp.tif')\n",
    "\n",
    "resample_worldcereal_cropmasks.merge_tifs(\n",
    "    tif_filepaths = [\n",
    "        binary_mask_filepaths['tc-annual_temporarycrops'],\n",
    "        cropped_geoglam_interp_filepath,\n",
    "    ],\n",
    "    dst_filepath = geoglam_wc_interp_tif_filepath,\n",
    ")"
   ]
  },
  {
   "cell_type": "code",
   "execution_count": null,
   "metadata": {},
   "outputs": [],
   "source": []
  }
 ],
 "metadata": {
  "kernelspec": {
   "display_name": ".venv",
   "language": "python",
   "name": "python3"
  },
  "language_info": {
   "codemirror_mode": {
    "name": "ipython",
    "version": 3
   },
   "file_extension": ".py",
   "mimetype": "text/x-python",
   "name": "python",
   "nbconvert_exporter": "python",
   "pygments_lexer": "ipython3",
   "version": "3.10.14"
  }
 },
 "nbformat": 4,
 "nbformat_minor": 2
}
