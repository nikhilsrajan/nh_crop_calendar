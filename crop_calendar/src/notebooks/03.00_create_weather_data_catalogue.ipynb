{
 "cells": [
  {
   "cell_type": "code",
   "execution_count": null,
   "metadata": {},
   "outputs": [],
   "source": [
    "import os"
   ]
  },
  {
   "cell_type": "code",
   "execution_count": null,
   "metadata": {},
   "outputs": [],
   "source": [
    "import sys\n",
    "sys.path.append('..')"
   ]
  },
  {
   "cell_type": "code",
   "execution_count": null,
   "metadata": {},
   "outputs": [],
   "source": [
    "import config\n",
    "\n",
    "import presets\n",
    "import create_weather_data_catalogue as cwdc"
   ]
  },
  {
   "cell_type": "code",
   "execution_count": null,
   "metadata": {},
   "outputs": [],
   "source": [
    "YEARS = [\n",
    "    # 2019,\n",
    "    2020,\n",
    "    # 2021,\n",
    "    # 2022,\n",
    "    # 2023,\n",
    "]"
   ]
  },
  {
   "cell_type": "code",
   "execution_count": null,
   "metadata": {},
   "outputs": [],
   "source": [
    "weather_catalogue_df = cwdc.create_weather_data_catalogue_df(\n",
    "    years = YEARS,\n",
    "    attribute_settings_dict = {\n",
    "        presets.ATTR_CHIRPS: cwdc.Settings(\n",
    "            attribute_folderpath = config.FOLDERPATH_CLUSTERFILES_CHIRPS,\n",
    "            download_folderpath = config.FOLDERPATH_CHC_CHIRP_V2P0_P05,\n",
    "        ),\n",
    "        presets.ATTR_CPCTMAX: cwdc.Settings(\n",
    "            attribute_folderpath = config.FOLDERPATH_CLUSTERFILES_CPCTMAX,\n",
    "        ),\n",
    "        presets.ATTR_CPCTMIN: cwdc.Settings(\n",
    "            attribute_folderpath = config.FOLDERPATH_CLUSTERFILES_CPCTMIN,\n",
    "        ),\n",
    "        presets.ATTR_ESI4WK: cwdc.Settings(\n",
    "            attribute_folderpath = config.FOLDERPATH_CLUSTERFILES_ESI4WK,\n",
    "        ),\n",
    "        presets.ATTR_NSIDC: cwdc.Settings(\n",
    "            attribute_folderpath = config.FOLDERPATH_CLUSTERFILES_NSIDC,\n",
    "        ),\n",
    "        presets.ATTR_NDVI_INTERP: cwdc.Settings(\n",
    "            attribute_folderpath = os.path.join(config.FOLDERPATH_OUTPUTS, 'interp_out/ndvi/tst_interp'),\n",
    "        ),\n",
    "    }\n",
    ")"
   ]
  },
  {
   "cell_type": "code",
   "execution_count": null,
   "metadata": {},
   "outputs": [],
   "source": [
    "weather_catalogue_df['attribute'].value_counts()"
   ]
  },
  {
   "cell_type": "code",
   "execution_count": null,
   "metadata": {},
   "outputs": [],
   "source": [
    "weather_catalogue_df['filetype'].value_counts()"
   ]
  },
  {
   "cell_type": "code",
   "execution_count": null,
   "metadata": {},
   "outputs": [],
   "source": [
    "weather_catalogue_df"
   ]
  },
  {
   "cell_type": "code",
   "execution_count": null,
   "metadata": {},
   "outputs": [],
   "source": []
  }
 ],
 "metadata": {
  "kernelspec": {
   "display_name": ".venv",
   "language": "python",
   "name": "python3"
  },
  "language_info": {
   "codemirror_mode": {
    "name": "ipython",
    "version": 3
   },
   "file_extension": ".py",
   "mimetype": "text/x-python",
   "name": "python",
   "nbconvert_exporter": "python",
   "pygments_lexer": "ipython3",
   "version": "3.10.11"
  }
 },
 "nbformat": 4,
 "nbformat_minor": 2
}
