{
 "cells": [
  {
   "cell_type": "code",
   "execution_count": 1,
   "metadata": {},
   "outputs": [],
   "source": [
    "import sys\n",
    "sys.path.append('..')\n",
    "sys.path.append('../scripts')"
   ]
  },
  {
   "cell_type": "code",
   "execution_count": 2,
   "metadata": {},
   "outputs": [],
   "source": [
    "import spatially_interpolate_files"
   ]
  },
  {
   "cell_type": "code",
   "execution_count": 3,
   "metadata": {},
   "outputs": [],
   "source": [
    "roi_geom_filepath = '../../data/shapefiles/France_Regions.gpkg'\n",
    "ref_tif_filepath = '../../data/outputs/ref_mod09.ndvi.global_0.05_degree.2019.001.c6.v1.tif'\n",
    "folderpath = '../../data/cluster_files/ndvi'\n",
    "attribute = 'ndvi'\n",
    "nodata = 0\n",
    "cropmask_tif_filepath = '../../data/outputs/masks/cereals.tif'\n",
    "interp_tif_filepath = '../../data/outputs/masks/temporarycrops.tif'\n",
    "mask_nodata = 0\n",
    "lower_cap = 0\n",
    "upper_cap = 250\n",
    "rich_data_min_total_data = 23\n",
    "rich_data_max_max_continuous_unavailable_data = 7\n",
    "years = [2019, 2020, 2021, 2022, 2023]\n",
    "\n",
    "t_interp_folderpath = '../../data/outputs/interp_out/ndvi/t_interp'\n",
    "overwrite_t_interp = False\n",
    "\n",
    "st_interp_folderpath = '../../data/outputs/interp_out/ndvi/st_interp'\n",
    "overwrite_st_interp = False\n",
    "\n",
    "tst_interp_folderpath = '../../data/outputs/interp_out/ndvi/tst_interp'\n",
    "overwrite_tst_interp = False"
   ]
  },
  {
   "cell_type": "code",
   "execution_count": 4,
   "metadata": {},
   "outputs": [
    {
     "name": "stdout",
     "output_type": "stream",
     "text": [
      "Temporally interpolating cropmask pixels\n"
     ]
    },
    {
     "name": "stderr",
     "output_type": "stream",
     "text": [
      "OMP: Info #276: omp_set_nested routine deprecated, please use omp_set_max_active_levels instead.\n"
     ]
    },
    {
     "name": "stdout",
     "output_type": "stream",
     "text": [
      "Spatially interpolating from cropmask to interpmask\n"
     ]
    },
    {
     "name": "stderr",
     "output_type": "stream",
     "text": [
      "100%|██████████| 230/230 [1:12:12<00:00, 18.84s/it]\n"
     ]
    },
    {
     "name": "stdout",
     "output_type": "stream",
     "text": [
      "Temporally interpolating interpmask pixels\n"
     ]
    }
   ],
   "source": [
    "tst_interp_catalogue_df = spatially_interpolate_files.spatially_interpolate_files(\n",
    "    roi_geom_filepath = roi_geom_filepath,\n",
    "    ref_tif_filepath = ref_tif_filepath,\n",
    "    folderpath = folderpath,\n",
    "    attribute = attribute,\n",
    "    nodata = nodata,\n",
    "    cropmask_tif_filepath = cropmask_tif_filepath,\n",
    "    interp_tif_filepath = interp_tif_filepath,\n",
    "    mask_nodata = mask_nodata,\n",
    "    lower_cap = lower_cap,\n",
    "    upper_cap = upper_cap,\n",
    "    rich_data_min_total_data = rich_data_min_total_data,\n",
    "    rich_data_max_max_continuous_unavailable_data = rich_data_max_max_continuous_unavailable_data,\n",
    "    years = years,\n",
    "    t_interp_folderpath = t_interp_folderpath,\n",
    "    overwrite_t_interp = overwrite_t_interp,\n",
    "    st_interp_folderpath = st_interp_folderpath,\n",
    "    overwrite_st_interp = overwrite_st_interp,\n",
    "    tst_interp_folderpath = tst_interp_folderpath,\n",
    "    overwrite_tst_interp = overwrite_tst_interp,\n",
    ")"
   ]
  },
  {
   "cell_type": "code",
   "execution_count": 5,
   "metadata": {},
   "outputs": [
    {
     "data": {
      "text/html": [
       "<div>\n",
       "<style scoped>\n",
       "    .dataframe tbody tr th:only-of-type {\n",
       "        vertical-align: middle;\n",
       "    }\n",
       "\n",
       "    .dataframe tbody tr th {\n",
       "        vertical-align: top;\n",
       "    }\n",
       "\n",
       "    .dataframe thead th {\n",
       "        text-align: right;\n",
       "    }\n",
       "</style>\n",
       "<table border=\"1\" class=\"dataframe\">\n",
       "  <thead>\n",
       "    <tr style=\"text-align: right;\">\n",
       "      <th></th>\n",
       "      <th>year</th>\n",
       "      <th>day</th>\n",
       "      <th>attribute</th>\n",
       "      <th>tif_filepath</th>\n",
       "    </tr>\n",
       "  </thead>\n",
       "  <tbody>\n",
       "    <tr>\n",
       "      <th>0</th>\n",
       "      <td>2019</td>\n",
       "      <td>1</td>\n",
       "      <td>ndvi</td>\n",
       "      <td>../../data/outputs/interp_out/ndvi/tst_interp/...</td>\n",
       "    </tr>\n",
       "    <tr>\n",
       "      <th>1</th>\n",
       "      <td>2019</td>\n",
       "      <td>9</td>\n",
       "      <td>ndvi</td>\n",
       "      <td>../../data/outputs/interp_out/ndvi/tst_interp/...</td>\n",
       "    </tr>\n",
       "    <tr>\n",
       "      <th>2</th>\n",
       "      <td>2019</td>\n",
       "      <td>17</td>\n",
       "      <td>ndvi</td>\n",
       "      <td>../../data/outputs/interp_out/ndvi/tst_interp/...</td>\n",
       "    </tr>\n",
       "    <tr>\n",
       "      <th>3</th>\n",
       "      <td>2019</td>\n",
       "      <td>25</td>\n",
       "      <td>ndvi</td>\n",
       "      <td>../../data/outputs/interp_out/ndvi/tst_interp/...</td>\n",
       "    </tr>\n",
       "    <tr>\n",
       "      <th>4</th>\n",
       "      <td>2019</td>\n",
       "      <td>33</td>\n",
       "      <td>ndvi</td>\n",
       "      <td>../../data/outputs/interp_out/ndvi/tst_interp/...</td>\n",
       "    </tr>\n",
       "    <tr>\n",
       "      <th>...</th>\n",
       "      <td>...</td>\n",
       "      <td>...</td>\n",
       "      <td>...</td>\n",
       "      <td>...</td>\n",
       "    </tr>\n",
       "    <tr>\n",
       "      <th>225</th>\n",
       "      <td>2023</td>\n",
       "      <td>329</td>\n",
       "      <td>ndvi</td>\n",
       "      <td>../../data/outputs/interp_out/ndvi/tst_interp/...</td>\n",
       "    </tr>\n",
       "    <tr>\n",
       "      <th>226</th>\n",
       "      <td>2023</td>\n",
       "      <td>337</td>\n",
       "      <td>ndvi</td>\n",
       "      <td>../../data/outputs/interp_out/ndvi/tst_interp/...</td>\n",
       "    </tr>\n",
       "    <tr>\n",
       "      <th>227</th>\n",
       "      <td>2023</td>\n",
       "      <td>345</td>\n",
       "      <td>ndvi</td>\n",
       "      <td>../../data/outputs/interp_out/ndvi/tst_interp/...</td>\n",
       "    </tr>\n",
       "    <tr>\n",
       "      <th>228</th>\n",
       "      <td>2023</td>\n",
       "      <td>353</td>\n",
       "      <td>ndvi</td>\n",
       "      <td>../../data/outputs/interp_out/ndvi/tst_interp/...</td>\n",
       "    </tr>\n",
       "    <tr>\n",
       "      <th>229</th>\n",
       "      <td>2023</td>\n",
       "      <td>361</td>\n",
       "      <td>ndvi</td>\n",
       "      <td>../../data/outputs/interp_out/ndvi/tst_interp/...</td>\n",
       "    </tr>\n",
       "  </tbody>\n",
       "</table>\n",
       "<p>230 rows × 4 columns</p>\n",
       "</div>"
      ],
      "text/plain": [
       "     year  day attribute                                       tif_filepath\n",
       "0    2019    1      ndvi  ../../data/outputs/interp_out/ndvi/tst_interp/...\n",
       "1    2019    9      ndvi  ../../data/outputs/interp_out/ndvi/tst_interp/...\n",
       "2    2019   17      ndvi  ../../data/outputs/interp_out/ndvi/tst_interp/...\n",
       "3    2019   25      ndvi  ../../data/outputs/interp_out/ndvi/tst_interp/...\n",
       "4    2019   33      ndvi  ../../data/outputs/interp_out/ndvi/tst_interp/...\n",
       "..    ...  ...       ...                                                ...\n",
       "225  2023  329      ndvi  ../../data/outputs/interp_out/ndvi/tst_interp/...\n",
       "226  2023  337      ndvi  ../../data/outputs/interp_out/ndvi/tst_interp/...\n",
       "227  2023  345      ndvi  ../../data/outputs/interp_out/ndvi/tst_interp/...\n",
       "228  2023  353      ndvi  ../../data/outputs/interp_out/ndvi/tst_interp/...\n",
       "229  2023  361      ndvi  ../../data/outputs/interp_out/ndvi/tst_interp/...\n",
       "\n",
       "[230 rows x 4 columns]"
      ]
     },
     "execution_count": 5,
     "metadata": {},
     "output_type": "execute_result"
    }
   ],
   "source": [
    "tst_interp_catalogue_df"
   ]
  },
  {
   "cell_type": "code",
   "execution_count": null,
   "metadata": {},
   "outputs": [],
   "source": []
  }
 ],
 "metadata": {
  "kernelspec": {
   "display_name": ".venv",
   "language": "python",
   "name": "python3"
  },
  "language_info": {
   "codemirror_mode": {
    "name": "ipython",
    "version": 3
   },
   "file_extension": ".py",
   "mimetype": "text/x-python",
   "name": "python",
   "nbconvert_exporter": "python",
   "pygments_lexer": "ipython3",
   "version": "3.10.11"
  }
 },
 "nbformat": 4,
 "nbformat_minor": 2
}
