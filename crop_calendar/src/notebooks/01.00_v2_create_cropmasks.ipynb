{
 "cells": [
  {
   "cell_type": "code",
   "execution_count": 1,
   "metadata": {},
   "outputs": [],
   "source": [
    "import geopandas as gpd\n",
    "import tqdm\n",
    "import os\n",
    "import rasterio\n",
    "import rasterio.merge\n",
    "import rasterio.warp\n",
    "import pandas as pd\n",
    "import datetime\n",
    "import numpy as np"
   ]
  },
  {
   "cell_type": "code",
   "execution_count": 2,
   "metadata": {},
   "outputs": [],
   "source": [
    "import sys\n",
    "sys.path.append('..')"
   ]
  },
  {
   "cell_type": "code",
   "execution_count": 3,
   "metadata": {},
   "outputs": [],
   "source": [
    "import resample_worldcereal_cropmasks"
   ]
  },
  {
   "cell_type": "code",
   "execution_count": 4,
   "metadata": {},
   "outputs": [],
   "source": [
    "bounding_filepath = '../../data/shapefiles/France_Regions.gpkg'\n",
    "aez_geojson_filepath = '../../data/worldcereal/WorldCereal_AEZ.geojson'\n",
    "reference_geotiff = '../../data/outputs/ref_mod09.ndvi.global_0.05_degree.2019.001.c6.v1.tif'\n",
    "\n",
    "worldcereal_folderpath = '../../data/worldcereal/'\n",
    "aez_s2_grid_folderpath = '../../data/outputs/s2_grid_level/worldcereal/'\n",
    "s2_grid_level_folderpath = '../../data/outputs/s2_grid_level/aggregated_worldcereal/'\n",
    "merged_product_folderpath = '../../data/outputs/s2_grid_level/aggregated_worldcereal'\n",
    "resampled_cropmasks_folderpath = '../../data/outputs/s2_grid_level/resampled_cropmasks/'\n",
    "output_folderpath = '../../data/outputs/merged_WC_cropmask/'"
   ]
  },
  {
   "cell_type": "code",
   "execution_count": 5,
   "metadata": {},
   "outputs": [
    {
     "name": "stdout",
     "output_type": "stream",
     "text": [
      "Dividing each aez's cropmask for products=['springcereals', 'temporarycrops', 'wintercereals'] by s2 grids:\n"
     ]
    },
    {
     "name": "stderr",
     "output_type": "stream",
     "text": [
      "  0%|          | 0/11 [00:00<?, ?it/s]"
     ]
    },
    {
     "name": "stdout",
     "output_type": "stream",
     "text": [
      "wintercereals tc-wintercereals 43153\n"
     ]
    },
    {
     "name": "stderr",
     "output_type": "stream",
     "text": [
      "100%|██████████| 11/11 [00:00<00:00, 1312.21it/s]\n"
     ]
    },
    {
     "name": "stdout",
     "output_type": "stream",
     "text": [
      "wintercereals tc-wintercereals 43170\n"
     ]
    },
    {
     "name": "stderr",
     "output_type": "stream",
     "text": [
      "100%|██████████| 11/11 [00:00<00:00, 616.27it/s]\n"
     ]
    },
    {
     "name": "stdout",
     "output_type": "stream",
     "text": [
      "temporarycrops tc-annual 43170\n"
     ]
    },
    {
     "name": "stderr",
     "output_type": "stream",
     "text": [
      "100%|██████████| 11/11 [00:00<00:00, 661.97it/s]\n"
     ]
    },
    {
     "name": "stdout",
     "output_type": "stream",
     "text": [
      "temporarycrops tc-annual 22190\n"
     ]
    },
    {
     "name": "stderr",
     "output_type": "stream",
     "text": [
      "100%|██████████| 11/11 [00:00<00:00, 814.74it/s]\n"
     ]
    },
    {
     "name": "stdout",
     "output_type": "stream",
     "text": [
      "temporarycrops tc-annual 46172\n"
     ]
    },
    {
     "name": "stderr",
     "output_type": "stream",
     "text": [
      "100%|██████████| 11/11 [00:00<00:00, 10100.12it/s]\n"
     ]
    },
    {
     "name": "stdout",
     "output_type": "stream",
     "text": [
      "temporarycrops tc-annual 43153\n"
     ]
    },
    {
     "name": "stderr",
     "output_type": "stream",
     "text": [
      "100%|██████████| 11/11 [00:00<00:00, 1515.73it/s]\n"
     ]
    },
    {
     "name": "stdout",
     "output_type": "stream",
     "text": [
      "wintercereals tc-wintercereals 46172\n"
     ]
    },
    {
     "name": "stderr",
     "output_type": "stream",
     "text": [
      "100%|██████████| 11/11 [00:00<00:00, 7862.53it/s]\n"
     ]
    },
    {
     "name": "stdout",
     "output_type": "stream",
     "text": [
      "wintercereals tc-wintercereals 22190\n"
     ]
    },
    {
     "name": "stderr",
     "output_type": "stream",
     "text": [
      "100%|██████████| 11/11 [00:00<00:00, 828.57it/s]\n"
     ]
    },
    {
     "name": "stdout",
     "output_type": "stream",
     "text": [
      "springcereals tc-springcereals 46172\n"
     ]
    },
    {
     "name": "stderr",
     "output_type": "stream",
     "text": [
      "100%|██████████| 11/11 [00:00<00:00, 10714.66it/s]\n"
     ]
    },
    {
     "name": "stdout",
     "output_type": "stream",
     "text": [
      "springcereals tc-springcereals 43170\n"
     ]
    },
    {
     "name": "stderr",
     "output_type": "stream",
     "text": [
      "100%|██████████| 11/11 [00:00<00:00, 678.72it/s]\n",
      " 91%|█████████ | 10/11 [00:00<00:00, 89.73it/s]"
     ]
    },
    {
     "name": "stdout",
     "output_type": "stream",
     "text": [
      "springcereals tc-springcereals 22190\n"
     ]
    },
    {
     "name": "stderr",
     "output_type": "stream",
     "text": [
      "100%|██████████| 11/11 [00:00<00:00, 771.98it/s]\n",
      "100%|██████████| 11/11 [00:00<00:00, 86.32it/s]\n"
     ]
    },
    {
     "name": "stdout",
     "output_type": "stream",
     "text": [
      "Merging each cropmask aez-s2grid into s2grids:\n"
     ]
    },
    {
     "name": "stderr",
     "output_type": "stream",
     "text": [
      "100%|██████████| 33/33 [00:00<00:00, 6965.18it/s]\n"
     ]
    },
    {
     "name": "stdout",
     "output_type": "stream",
     "text": [
      "Merging different product -- ['springcereals', 'wintercereals'] -> cereals\n"
     ]
    },
    {
     "name": "stderr",
     "output_type": "stream",
     "text": [
      "100%|██████████| 11/11 [00:00<00:00, 4984.59it/s]\n"
     ]
    },
    {
     "name": "stdout",
     "output_type": "stream",
     "text": [
      "Resampling cropmasks for products=['cereals', 'temporarycrops'] to target resolution\n"
     ]
    },
    {
     "name": "stderr",
     "output_type": "stream",
     "text": [
      "100%|██████████| 22/22 [00:00<00:00, 25546.70it/s]\n"
     ]
    },
    {
     "name": "stdout",
     "output_type": "stream",
     "text": [
      "Merging ['cereals', 'temporarycrops'] to bounds:\n"
     ]
    },
    {
     "name": "stderr",
     "output_type": "stream",
     "text": [
      "100%|██████████| 2/2 [00:00<00:00, 43.45it/s]\n"
     ]
    },
    {
     "name": "stdout",
     "output_type": "stream",
     "text": [
      "Co-register merged tifs with cropped ref_tif_filepath:\n"
     ]
    }
   ],
   "source": [
    "# 49 m 12.2 s\n",
    "merged_cropmask_catalogue_df = \\\n",
    "resample_worldcereal_cropmasks.resample_worldcereal_cropmasks(\n",
    "    roi_geom_filepath = bounding_filepath,\n",
    "    worldcereal_folderpath = worldcereal_folderpath,\n",
    "    worldcereal_aez_filepath = aez_geojson_filepath,\n",
    "    ref_tif_filepath = reference_geotiff,\n",
    "    aez_s2_grid_folderpath = aez_s2_grid_folderpath,\n",
    "    s2_grid_level_folderpath = s2_grid_level_folderpath,\n",
    "    merged_product_folderpath = merged_product_folderpath,\n",
    "    resampled_cropmasks_folderpath = resampled_cropmasks_folderpath,\n",
    "    output_folderpath = output_folderpath,\n",
    "    products_to_merge = ['springcereals', 'wintercereals'],\n",
    "    merged_product_name = 'cereals',\n",
    "    out_products = ['cereals', 'temporarycrops'],\n",
    "    s2_grid_res = 4,\n",
    "    overwrite = False,\n",
    ")"
   ]
  },
  {
   "cell_type": "code",
   "execution_count": 6,
   "metadata": {},
   "outputs": [
    {
     "data": {
      "text/html": [
       "<div>\n",
       "<style scoped>\n",
       "    .dataframe tbody tr th:only-of-type {\n",
       "        vertical-align: middle;\n",
       "    }\n",
       "\n",
       "    .dataframe tbody tr th {\n",
       "        vertical-align: top;\n",
       "    }\n",
       "\n",
       "    .dataframe thead th {\n",
       "        text-align: right;\n",
       "    }\n",
       "</style>\n",
       "<table border=\"1\" class=\"dataframe\">\n",
       "  <thead>\n",
       "    <tr style=\"text-align: right;\">\n",
       "      <th></th>\n",
       "      <th>product</th>\n",
       "      <th>tif_filepath</th>\n",
       "    </tr>\n",
       "  </thead>\n",
       "  <tbody>\n",
       "    <tr>\n",
       "      <th>0</th>\n",
       "      <td>cereals</td>\n",
       "      <td>../../data/outputs/merged_WC_cropmask/cereals.tif</td>\n",
       "    </tr>\n",
       "    <tr>\n",
       "      <th>1</th>\n",
       "      <td>temporarycrops</td>\n",
       "      <td>../../data/outputs/merged_WC_cropmask/temporar...</td>\n",
       "    </tr>\n",
       "  </tbody>\n",
       "</table>\n",
       "</div>"
      ],
      "text/plain": [
       "          product                                       tif_filepath\n",
       "0         cereals  ../../data/outputs/merged_WC_cropmask/cereals.tif\n",
       "1  temporarycrops  ../../data/outputs/merged_WC_cropmask/temporar..."
      ]
     },
     "execution_count": 6,
     "metadata": {},
     "output_type": "execute_result"
    }
   ],
   "source": [
    "merged_cropmask_catalogue_df"
   ]
  },
  {
   "cell_type": "code",
   "execution_count": 7,
   "metadata": {},
   "outputs": [
    {
     "data": {
      "text/plain": [
       "{'cereals': '../../data/outputs/merged_WC_cropmask/cereals.tif',\n",
       " 'temporarycrops': '../../data/outputs/merged_WC_cropmask/temporarycrops.tif'}"
      ]
     },
     "execution_count": 7,
     "metadata": {},
     "output_type": "execute_result"
    }
   ],
   "source": [
    "tif_filepaths = dict(zip(\n",
    "    merged_cropmask_catalogue_df['product'],\n",
    "    merged_cropmask_catalogue_df['tif_filepath'],\n",
    "))\n",
    "\n",
    "tif_filepaths"
   ]
  },
  {
   "cell_type": "code",
   "execution_count": 8,
   "metadata": {},
   "outputs": [],
   "source": [
    "masks_folderpath = '../../data/outputs/masks'\n",
    "os.makedirs(masks_folderpath)"
   ]
  },
  {
   "cell_type": "code",
   "execution_count": 9,
   "metadata": {},
   "outputs": [],
   "source": [
    "CEREAL_MASK_THRESHOLD = 10 # greater than and equal to\n",
    "INTERP_MASK_THRESHOLD = 0  # greater than"
   ]
  },
  {
   "cell_type": "code",
   "execution_count": 10,
   "metadata": {},
   "outputs": [],
   "source": [
    "def create_binary_mask(\n",
    "    tif_filepath:str,\n",
    "    out_mask_filepath:str,\n",
    "    min_threshold,\n",
    "    how='gte',\n",
    "):\n",
    "    with rasterio.open(tif_filepath) as src:\n",
    "        ndarray = src.read()\n",
    "        meta = src.meta.copy()\n",
    "    \n",
    "    out_ndarray = np.zeros(shape=ndarray.shape)\n",
    "    if how == 'gte':\n",
    "        out_ndarray[ndarray >= min_threshold] = 1\n",
    "    elif how == 'gt':\n",
    "        out_ndarray[ndarray > min_threshold] = 1\n",
    "    else:\n",
    "        raise ValueError(f\"how must be either 'gte' or 'gt'.\")\n",
    "\n",
    "    _folderpath = os.path.split(out_mask_filepath)[0]\n",
    "    os.makedirs(_folderpath, exist_ok=True)\n",
    "\n",
    "    meta['dtype'] = rasterio.uint8\n",
    "    meta['nodata'] = 0\n",
    "\n",
    "    with rasterio.open(out_mask_filepath, 'w', **meta) as dst:\n",
    "        dst.write(out_ndarray)"
   ]
  },
  {
   "cell_type": "code",
   "execution_count": 11,
   "metadata": {},
   "outputs": [],
   "source": [
    "create_binary_mask(\n",
    "    tif_filepath=tif_filepaths['cereals'], \n",
    "    out_mask_filepath=os.path.join(masks_folderpath, 'cereals.tif'),\n",
    "    min_threshold=CEREAL_MASK_THRESHOLD,\n",
    "    how='gte',\n",
    ")"
   ]
  },
  {
   "cell_type": "code",
   "execution_count": 12,
   "metadata": {},
   "outputs": [],
   "source": [
    "create_binary_mask(\n",
    "    tif_filepath=tif_filepaths['temporarycrops'], \n",
    "    out_mask_filepath=os.path.join(masks_folderpath, 'temporarycrops.tif'),\n",
    "    min_threshold=INTERP_MASK_THRESHOLD,\n",
    "    how='gt',\n",
    ")"
   ]
  },
  {
   "cell_type": "code",
   "execution_count": null,
   "metadata": {},
   "outputs": [],
   "source": []
  }
 ],
 "metadata": {
  "kernelspec": {
   "display_name": ".venv",
   "language": "python",
   "name": "python3"
  },
  "language_info": {
   "codemirror_mode": {
    "name": "ipython",
    "version": 3
   },
   "file_extension": ".py",
   "mimetype": "text/x-python",
   "name": "python",
   "nbconvert_exporter": "python",
   "pygments_lexer": "ipython3",
   "version": "3.10.11"
  }
 },
 "nbformat": 4,
 "nbformat_minor": 2
}
