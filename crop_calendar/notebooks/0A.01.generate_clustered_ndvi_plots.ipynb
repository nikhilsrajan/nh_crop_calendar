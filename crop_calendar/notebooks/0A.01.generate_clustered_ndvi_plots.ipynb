{
 "cells": [
  {
   "cell_type": "code",
   "execution_count": null,
   "metadata": {},
   "outputs": [],
   "source": [
    "import os"
   ]
  },
  {
   "cell_type": "code",
   "execution_count": null,
   "metadata": {},
   "outputs": [],
   "source": [
    "import sys\n",
    "sys.path.append('..')"
   ]
  },
  {
   "cell_type": "code",
   "execution_count": null,
   "metadata": {},
   "outputs": [],
   "source": [
    "import config\n",
    "import presets\n",
    "\n",
    "import rsutils.utils as utils\n",
    "import spatially_interpolate_files as sif"
   ]
  },
  {
   "cell_type": "code",
   "execution_count": null,
   "metadata": {},
   "outputs": [],
   "source": [
    "ATTRIBUTE = presets.ATTR_NDVI_INTERP\n",
    "\n",
    "FOLDERPATHS_DICT = {\n",
    "    't_interp': os.path.join(config.FOLDERPATH_OUTPUTS, f'interp_out/ndvi/t_interp'),\n",
    "    'st_interp': os.path.join(config.FOLDERPATH_OUTPUTS, f'interp_out/ndvi/st_interp'),\n",
    "    'tst_interp': os.path.join(config.FOLDERPATH_OUTPUTS, f'interp_out/ndvi/tst_interp'),\n",
    "}"
   ]
  },
  {
   "cell_type": "code",
   "execution_count": null,
   "metadata": {},
   "outputs": [],
   "source": [
    "INTERP_TYPE = 't_interp'\n",
    "# INTERP_TYPE = 'tst_interp'"
   ]
  },
  {
   "cell_type": "code",
   "execution_count": null,
   "metadata": {},
   "outputs": [],
   "source": [
    "catalogue_df = sif.create_catalogue_df(\n",
    "    folderpath = FOLDERPATHS_DICT[INTERP_TYPE],\n",
    "    filename_parser = presets.PARSERS[ATTRIBUTE],\n",
    ")"
   ]
  },
  {
   "cell_type": "code",
   "execution_count": null,
   "metadata": {},
   "outputs": [],
   "source": [
    "data_stack, metadata = sif.create_stack(\n",
    "    catalogue_df = catalogue_df,\n",
    "    nodata = 0,\n",
    ")"
   ]
  },
  {
   "cell_type": "code",
   "execution_count": null,
   "metadata": {},
   "outputs": [],
   "source": [
    "catalogue_df"
   ]
  },
  {
   "cell_type": "code",
   "execution_count": null,
   "metadata": {},
   "outputs": [],
   "source": [
    "sif.plot_timeseries_and_clustered_tif(\n",
    "    data_stack = data_stack,\n",
    "    metadata = metadata,\n",
    "    nodata = 0,\n",
    "    attribute = ATTRIBUTE,\n",
    "    filename_prefix = f'{ATTRIBUTE}_{INTERP_TYPE}_',\n",
    "    cropname = 'cereals',\n",
    "    y_label = 'MODIS NDVI (0.05 deg, 8 day mosaic)',\n",
    "    y_min = -0.2,\n",
    "    y_max = 1,\n",
    "    x_label = 'days',\n",
    "    plots_folderpath = config.FOLDERPATH_PLOTS,\n",
    ")"
   ]
  },
  {
   "cell_type": "code",
   "execution_count": null,
   "metadata": {},
   "outputs": [],
   "source": []
  }
 ],
 "metadata": {
  "kernelspec": {
   "display_name": ".venv",
   "language": "python",
   "name": "python3"
  },
  "language_info": {
   "codemirror_mode": {
    "name": "ipython",
    "version": 3
   },
   "file_extension": ".py",
   "mimetype": "text/x-python",
   "name": "python",
   "nbconvert_exporter": "python",
   "pygments_lexer": "ipython3",
   "version": "3.10.14"
  }
 },
 "nbformat": 4,
 "nbformat_minor": 2
}
