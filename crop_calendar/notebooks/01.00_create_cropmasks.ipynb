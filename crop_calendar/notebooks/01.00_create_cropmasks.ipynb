{
 "cells": [
  {
   "cell_type": "code",
   "execution_count": null,
   "metadata": {},
   "outputs": [],
   "source": [
    "import os\n",
    "import rasterio\n",
    "import numpy as np"
   ]
  },
  {
   "cell_type": "code",
   "execution_count": null,
   "metadata": {},
   "outputs": [],
   "source": [
    "import sys\n",
    "sys.path.append('..')"
   ]
  },
  {
   "cell_type": "code",
   "execution_count": null,
   "metadata": {},
   "outputs": [],
   "source": [
    "import config\n",
    "\n",
    "import rsutils.utils as utils\n",
    "import resample_worldcereal_cropmasks"
   ]
  },
  {
   "cell_type": "code",
   "execution_count": null,
   "metadata": {},
   "outputs": [],
   "source": [
    "aez_s2_grid_folderpath = os.path.join(config.FOLDERPATH_OUTPUTS, 's2_grid_level/worldcereal/')\n",
    "s2_grid_level_folderpath = os.path.join(config.FOLDERPATH_OUTPUTS, 's2_grid_level/aggregated_worldcereal/')\n",
    "merged_product_folderpath = os.path.join(config.FOLDERPATH_OUTPUTS, 's2_grid_level/aggregated_worldcereal')\n",
    "resampled_cropmasks_folderpath = os.path.join(config.FOLDERPATH_OUTPUTS, 's2_grid_level/resampled_cropmasks/')\n",
    "output_folderpath = os.path.join(config.FOLDERPATH_OUTPUTS, 'merged_WC_cropmask/')"
   ]
  },
  {
   "cell_type": "code",
   "execution_count": null,
   "metadata": {},
   "outputs": [],
   "source": [
    "WC_S2_GRID_RES = 4\n",
    "WC_PRODUCTS_TO_MERGE = ['springcereals', 'wintercereals']\n",
    "WC_MERGED_PRODUCT_NAME = 'cereals'\n",
    "WC_OUTPRODUCTS = ['cereals', 'temporarycrops']\n",
    "BINARY_MASK_SETTINGS = {\n",
    "    'cereals': {\n",
    "        'threshold': 10,\n",
    "        'how': 'gte',\n",
    "    },\n",
    "    'temporarycrops': {\n",
    "        'threshold': 0,\n",
    "        'how': 'gt',\n",
    "    }\n",
    "}"
   ]
  },
  {
   "cell_type": "code",
   "execution_count": null,
   "metadata": {},
   "outputs": [],
   "source": [
    "# 49 m 12.2 s\n",
    "merged_cropmask_catalogue_df = \\\n",
    "resample_worldcereal_cropmasks.resample_worldcereal_cropmasks(\n",
    "    roi_geom_filepath = config.FILEPATH_ROI_SHAPE,\n",
    "    worldcereal_folderpath = config.FOLDERPATH_WORLDCEREAL,\n",
    "    worldcereal_aez_filepath = config.FILEPATH_WORLDCEREAL_AEZ,\n",
    "    ref_tif_filepath = config.FILEPATH_REFERENCE_GEOTIFF,\n",
    "    aez_s2_grid_folderpath = aez_s2_grid_folderpath,\n",
    "    s2_grid_level_folderpath = s2_grid_level_folderpath,\n",
    "    merged_product_folderpath = merged_product_folderpath,\n",
    "    resampled_cropmasks_folderpath = resampled_cropmasks_folderpath,\n",
    "    output_folderpath = output_folderpath,\n",
    "    products_to_merge = WC_PRODUCTS_TO_MERGE,\n",
    "    merged_product_name = WC_MERGED_PRODUCT_NAME,\n",
    "    out_products = WC_OUTPRODUCTS,\n",
    "    s2_grid_res = WC_S2_GRID_RES,\n",
    "    overwrite = False,\n",
    ")"
   ]
  },
  {
   "cell_type": "code",
   "execution_count": null,
   "metadata": {},
   "outputs": [],
   "source": [
    "merged_cropmask_catalogue_df"
   ]
  },
  {
   "cell_type": "code",
   "execution_count": null,
   "metadata": {},
   "outputs": [],
   "source": [
    "tif_filepaths = dict(zip(\n",
    "    merged_cropmask_catalogue_df['product'],\n",
    "    merged_cropmask_catalogue_df['tif_filepath'],\n",
    "))\n",
    "\n",
    "tif_filepaths"
   ]
  },
  {
   "cell_type": "code",
   "execution_count": null,
   "metadata": {},
   "outputs": [],
   "source": [
    "os.makedirs(config.FOLDERPATH_MASKS, exist_ok=True)"
   ]
  },
  {
   "cell_type": "code",
   "execution_count": null,
   "metadata": {},
   "outputs": [],
   "source": [
    "def create_binary_mask(\n",
    "    tif_filepath:str,\n",
    "    out_mask_filepath:str,\n",
    "    min_threshold,\n",
    "    how='gte',\n",
    "):\n",
    "    with rasterio.open(tif_filepath) as src:\n",
    "        ndarray = src.read()\n",
    "        meta = src.meta.copy()\n",
    "    \n",
    "    out_ndarray = np.zeros(shape=ndarray.shape)\n",
    "    if how == 'gte':\n",
    "        out_ndarray[ndarray >= min_threshold] = 1\n",
    "    elif how == 'gt':\n",
    "        out_ndarray[ndarray > min_threshold] = 1\n",
    "    else:\n",
    "        raise ValueError(f\"how must be either 'gte' or 'gt'.\")\n",
    "\n",
    "    _folderpath = os.path.split(out_mask_filepath)[0]\n",
    "    os.makedirs(_folderpath, exist_ok=True)\n",
    "\n",
    "    meta['dtype'] = rasterio.uint8\n",
    "    meta['nodata'] = 0\n",
    "\n",
    "    with rasterio.open(out_mask_filepath, 'w', **meta) as dst:\n",
    "        dst.write(out_ndarray)"
   ]
  },
  {
   "cell_type": "code",
   "execution_count": null,
   "metadata": {},
   "outputs": [],
   "source": [
    "for key, binmask_config in BINARY_MASK_SETTINGS.items():\n",
    "    tif_filepath = tif_filepaths[key]\n",
    "    out_mask_filepath = utils.modify_filepath(\n",
    "        filepath=tif_filepath,\n",
    "        new_folderpath=config.FOLDERPATH_MASKS,\n",
    "    )\n",
    "    create_binary_mask(\n",
    "        tif_filepath=tif_filepath, \n",
    "        out_mask_filepath=  out_mask_filepath,\n",
    "        min_threshold=binmask_config['threshold'],\n",
    "        how=binmask_config['how'],\n",
    "    )"
   ]
  },
  {
   "cell_type": "code",
   "execution_count": null,
   "metadata": {},
   "outputs": [],
   "source": []
  }
 ],
 "metadata": {
  "kernelspec": {
   "display_name": ".venv",
   "language": "python",
   "name": "python3"
  },
  "language_info": {
   "codemirror_mode": {
    "name": "ipython",
    "version": 3
   },
   "file_extension": ".py",
   "mimetype": "text/x-python",
   "name": "python",
   "nbconvert_exporter": "python",
   "pygments_lexer": "ipython3",
   "version": "3.10.11"
  }
 },
 "nbformat": 4,
 "nbformat_minor": 2
}
